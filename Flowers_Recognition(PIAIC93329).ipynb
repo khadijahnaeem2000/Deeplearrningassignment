{
  "nbformat": 4,
  "nbformat_minor": 0,
  "metadata": {
    "accelerator": "GPU",
    "colab": {
      "name": "Flowers_Recognition(PIAIC93329).ipynb",
      "provenance": []
    },
    "kernelspec": {
      "display_name": "Python 3",
      "name": "python3"
    }
  },
  "cells": [
    {
      "cell_type": "markdown",
      "metadata": {
        "id": "view-in-github"
      },
      "source": [
        "<a href=\"https://colab.research.google.com/github/sadaqatali1234/Deep-learning-assigments/blob/main/Flowers_Recognition.ipynb\" target=\"_parent\"><img src=\"https://colab.research.google.com/assets/colab-badge.svg\" alt=\"Open In Colab\"/></a>"
      ]
    },
    {
      "cell_type": "markdown",
      "metadata": {
        "id": "BXgJ6uT1NydQ"
      },
      "source": [
        "Assignment: Flowers Recognition <br>\n",
        "Dataset Description:<br>\n",
        "\n",
        "This dataset contains 4242 images of flowers.<br>\n",
        "The data collection is based on the data flicr, google images, yandex images.<br>\n",
        "You can use this datastet to recognize plants from the photo.<br>\n",
        "\n",
        "Attribute Information:<br>\n",
        "The pictures are divided into five classes: chamomile, tulip, rose, sunflower, dandelion.<br>\n",
        "For each class there are about 800 photos. Photos are not high resolution, about 320x240 pixels. <br>\n",
        "<b>Also explore how to resize images in tensorflow and then resize all the images to a same size. </b> <br>\n",
        "This is a Multiclass Classification Problem.<br>\n",
        "\n",
        "\n"
      ]
    },
    {
      "cell_type": "markdown",
      "metadata": {
        "id": "T7vy-ktuOKJH"
      },
      "source": [
        "WORKFLOW : <br>\n",
        "Load Data <br>\n",
        "Split into 60 and 40 ratio.<br>\n",
        "Encode labels.<br>\n",
        "Create Model<br>\n",
        "Compilation Step (Note : Its a Multiclass Classification problem , select loss , metrics according to it)<br>\n",
        "Train the Model.<br>\n",
        "If the model gets overfit tune your model by changing the units , No. of layers , epochs , add dropout layer or add Regularizer according to the need .<br>\n",
        "Prediction should be > 85%<br>\n",
        "Evaluation Step<br>\n",
        "Prediction<br>\n",
        "\n",
        "\n"
      ]
    },
    {
      "cell_type": "markdown",
      "metadata": {
        "id": "ri3Bg5qfPRic"
      },
      "source": [
        "Data : <br>\n",
        "https://drive.google.com/file/d/1-OX6wn5gA-bJpjPNfSyaYQLz-A-AB_uj/view?usp=sharing"
      ]
    },
    {
      "cell_type": "code",
      "metadata": {
        "id": "zYq1tLjMThy-"
      },
      "source": [
        "# libaries importing\n",
        "import matplotlib.pyplot as plt\n",
        "import numpy as np\n",
        "from os import listdir\n",
        "import os\n",
        "from os.path import join\n",
        "import cv2\n",
        "import pandas as pd\n"
      ],
      "execution_count": null,
      "outputs": []
    },
    {
      "cell_type": "code",
      "metadata": {
        "colab": {
          "base_uri": "https://localhost:8080/"
        },
        "id": "gEvOmCFZl8gd",
        "outputId": "5d4474f9-e5f8-4863-cc5c-22cc12f4ed19"
      },
      "source": [
        "#data loading\n",
        "data = \"/content/drive/MyDrive/flowers/flowers\"\n",
        "\n",
        "# List out the directories inside the main input folder\n",
        "\n",
        "folders = os.listdir(data)\n",
        "\n",
        "print(folders)"
      ],
      "execution_count": null,
      "outputs": [
        {
          "output_type": "stream",
          "text": [
            "['rose', 'sunflower', 'tulip', 'daisy', 'dandelion']\n"
          ],
          "name": "stdout"
        }
      ]
    },
    {
      "cell_type": "code",
      "metadata": {
        "id": "GQ1mhV25Vy54"
      },
      "source": [
        "# pictures loading and resizing\n",
        "image_names = []\n",
        "labels = []\n",
        "data_images = []\n",
        "\n",
        "\n",
        "size = 28,28\n",
        "\n",
        "for folder in folders:\n",
        "    for file in os.listdir(os.path.join(data,folder)):\n",
        "        if file.endswith(\"jpg\"):\n",
        "            image_names.append(os.path.join(data,folder,file))\n",
        "            labels.append(folder)\n",
        "            img = cv2.imread(os.path.join(data,folder,file))\n",
        "            im = cv2.resize(img,size)\n",
        "            data_images.append(im)\n",
        "        else:\n",
        "            continue"
      ],
      "execution_count": null,
      "outputs": []
    },
    {
      "cell_type": "code",
      "metadata": {
        "id": "Ooes5VxJuK0H"
      },
      "source": [
        "# label encoding\n",
        "label_dummies = pd.get_dummies(labels)\n",
        "\n",
        "labels =  label_dummies.values.argmax(1)"
      ],
      "execution_count": null,
      "outputs": []
    },
    {
      "cell_type": "code",
      "metadata": {
        "colab": {
          "base_uri": "https://localhost:8080/"
        },
        "id": "Fu33GNFuuqlh",
        "outputId": "ed3e42a4-110e-4581-d7e1-9c8e954d104a"
      },
      "source": [
        "# labels unique values\n",
        "pd.unique(labels)"
      ],
      "execution_count": null,
      "outputs": [
        {
          "output_type": "execute_result",
          "data": {
            "text/plain": [
              "array([2, 3, 4, 0, 1])"
            ]
          },
          "metadata": {
            "tags": []
          },
          "execution_count": 8
        }
      ]
    },
    {
      "cell_type": "code",
      "metadata": {
        "id": "_Hgrb2oTxFdp"
      },
      "source": [
        "# convet label and data into numpy array\n",
        "labels=np.asarray(labels).astype(\"float32\")\n",
        "data = np.asarray(data_images).astype(\"float32\")/255.0"
      ],
      "execution_count": null,
      "outputs": []
    },
    {
      "cell_type": "code",
      "metadata": {
        "id": "LjD3zNMDsSz-"
      },
      "source": [
        "import sklearn\n",
        "from sklearn.model_selection import train_test_split\n",
        "X_train,X_test,y_train,y_test=train_test_split(data,labels,test_size=.40,random_state=1)"
      ],
      "execution_count": null,
      "outputs": []
    },
    {
      "cell_type": "code",
      "metadata": {
        "id": "mm7WYHSxYO4g"
      },
      "source": [
        "# model buiding\n",
        "from keras.models import Sequential\n",
        "from keras.layers import Conv2D,MaxPool2D,Flatten,Dense\n",
        "\n",
        "mymodel =Sequential()\n",
        "mymodel.add(Conv2D(8, (1,1),input_shape=(28, 28, 3),activation='relu'))\n",
        "mymodel.add(MaxPool2D(pool_size=(1,1)))\n",
        "mymodel.add(Conv2D(16, (1,1),activation='relu'))\n",
        "mymodel.add(MaxPool2D(pool_size=(2,2)))\n",
        "mymodel.add(Flatten())\n",
        "mymodel.add(Dense(128,activation='relu'))\n",
        "mymodel.add(Dense(10,activation=\"softmax\"))\n"
      ],
      "execution_count": null,
      "outputs": []
    },
    {
      "cell_type": "code",
      "metadata": {
        "colab": {
          "base_uri": "https://localhost:8080/"
        },
        "id": "et64nng0deu4",
        "outputId": "15078c14-c5d3-4848-cb0a-4ff79690d07f"
      },
      "source": [
        "#model summary\n",
        "mymodel.summary()"
      ],
      "execution_count": null,
      "outputs": [
        {
          "output_type": "stream",
          "text": [
            "Model: \"sequential\"\n",
            "_________________________________________________________________\n",
            "Layer (type)                 Output Shape              Param #   \n",
            "=================================================================\n",
            "conv2d (Conv2D)              (None, 28, 28, 8)         32        \n",
            "_________________________________________________________________\n",
            "max_pooling2d (MaxPooling2D) (None, 28, 28, 8)         0         \n",
            "_________________________________________________________________\n",
            "conv2d_1 (Conv2D)            (None, 28, 28, 16)        144       \n",
            "_________________________________________________________________\n",
            "max_pooling2d_1 (MaxPooling2 (None, 14, 14, 16)        0         \n",
            "_________________________________________________________________\n",
            "flatten (Flatten)            (None, 3136)              0         \n",
            "_________________________________________________________________\n",
            "dense (Dense)                (None, 128)               401536    \n",
            "_________________________________________________________________\n",
            "dense_1 (Dense)              (None, 10)                1290      \n",
            "=================================================================\n",
            "Total params: 403,002\n",
            "Trainable params: 403,002\n",
            "Non-trainable params: 0\n",
            "_________________________________________________________________\n"
          ],
          "name": "stdout"
        }
      ]
    },
    {
      "cell_type": "code",
      "metadata": {
        "id": "npGn6x2RiJVL"
      },
      "source": [
        "#model compiling\n",
        "mymodel.compile(loss='sparse_categorical_crossentropy',optimizer='adam',metrics=['accuracy'])"
      ],
      "execution_count": null,
      "outputs": []
    },
    {
      "cell_type": "code",
      "metadata": {
        "colab": {
          "base_uri": "https://localhost:8080/"
        },
        "id": "py_P71wz2dZ1",
        "outputId": "72b8ed33-33c2-4c09-e492-894d96208350"
      },
      "source": [
        "batch_size = 1\n",
        "epochs = 20\n",
        "history=mymodel.fit(X_train, y_train,batch_size=batch_size,epochs=epochs)"
      ],
      "execution_count": null,
      "outputs": [
        {
          "output_type": "stream",
          "text": [
            "Epoch 1/20\n",
            "2593/2593 [==============================] - 8s 2ms/step - loss: 1.4400 - accuracy: 0.3899\n",
            "Epoch 2/20\n",
            "2593/2593 [==============================] - 5s 2ms/step - loss: 1.0166 - accuracy: 0.6047\n",
            "Epoch 3/20\n",
            "2593/2593 [==============================] - 5s 2ms/step - loss: 0.8795 - accuracy: 0.6665\n",
            "Epoch 4/20\n",
            "2593/2593 [==============================] - 5s 2ms/step - loss: 0.7689 - accuracy: 0.7097\n",
            "Epoch 5/20\n",
            "2593/2593 [==============================] - 5s 2ms/step - loss: 0.6372 - accuracy: 0.7553\n",
            "Epoch 6/20\n",
            "2593/2593 [==============================] - 5s 2ms/step - loss: 0.5496 - accuracy: 0.8050\n",
            "Epoch 7/20\n",
            "2593/2593 [==============================] - 5s 2ms/step - loss: 0.4608 - accuracy: 0.8333\n",
            "Epoch 8/20\n",
            "2593/2593 [==============================] - 5s 2ms/step - loss: 0.3694 - accuracy: 0.8609\n",
            "Epoch 9/20\n",
            "2593/2593 [==============================] - 5s 2ms/step - loss: 0.3124 - accuracy: 0.8885\n",
            "Epoch 10/20\n",
            "2593/2593 [==============================] - 5s 2ms/step - loss: 0.2132 - accuracy: 0.9262\n",
            "Epoch 11/20\n",
            "2593/2593 [==============================] - 5s 2ms/step - loss: 0.1933 - accuracy: 0.9349\n",
            "Epoch 12/20\n",
            "2593/2593 [==============================] - 5s 2ms/step - loss: 0.1373 - accuracy: 0.9618\n",
            "Epoch 13/20\n",
            "2593/2593 [==============================] - 5s 2ms/step - loss: 0.1585 - accuracy: 0.9470\n",
            "Epoch 14/20\n",
            "2593/2593 [==============================] - 5s 2ms/step - loss: 0.0925 - accuracy: 0.9728\n",
            "Epoch 15/20\n",
            "2593/2593 [==============================] - 5s 2ms/step - loss: 0.1233 - accuracy: 0.9573\n",
            "Epoch 16/20\n",
            "2593/2593 [==============================] - 5s 2ms/step - loss: 0.1103 - accuracy: 0.9642\n",
            "Epoch 17/20\n",
            "2593/2593 [==============================] - 5s 2ms/step - loss: 0.0938 - accuracy: 0.9724\n",
            "Epoch 18/20\n",
            "2593/2593 [==============================] - 5s 2ms/step - loss: 0.0858 - accuracy: 0.9781\n",
            "Epoch 19/20\n",
            "2593/2593 [==============================] - 5s 2ms/step - loss: 0.0698 - accuracy: 0.9833\n",
            "Epoch 20/20\n",
            "2593/2593 [==============================] - 5s 2ms/step - loss: 0.0669 - accuracy: 0.9850\n"
          ],
          "name": "stdout"
        }
      ]
    },
    {
      "cell_type": "code",
      "metadata": {
        "colab": {
          "base_uri": "https://localhost:8080/"
        },
        "id": "XgXa5W3480Wz",
        "outputId": "2dc4493d-e535-40e5-a550-f970775d551d"
      },
      "source": [
        "mymodel.evaluate(X_test,y_test)"
      ],
      "execution_count": null,
      "outputs": [
        {
          "output_type": "stream",
          "text": [
            "55/55 [==============================] - 0s 3ms/step - loss: 2.4021 - accuracy: 0.6110\n"
          ],
          "name": "stdout"
        },
        {
          "output_type": "execute_result",
          "data": {
            "text/plain": [
              "[2.4021308422088623, 0.6109826564788818]"
            ]
          },
          "metadata": {
            "tags": []
          },
          "execution_count": 24
        }
      ]
    },
    {
      "cell_type": "code",
      "metadata": {
        "colab": {
          "base_uri": "https://localhost:8080/"
        },
        "id": "ZQajCO4u9DZt",
        "outputId": "8d7bd97b-8b9c-43e5-a30d-97b8dd2aa54a"
      },
      "source": [
        "pred = mymodel.predict_classes(X_test[:10])\n",
        "for i in range(len(pred)):\n",
        "    print(pred[i],'==>',y_test[i])"
      ],
      "execution_count": null,
      "outputs": [
        {
          "output_type": "stream",
          "text": [
            "1 ==> 1.0\n",
            "1 ==> 3.0\n",
            "0 ==> 0.0\n",
            "4 ==> 4.0\n",
            "4 ==> 4.0\n",
            "0 ==> 0.0\n",
            "3 ==> 4.0\n",
            "1 ==> 1.0\n",
            "2 ==> 4.0\n",
            "1 ==> 4.0\n"
          ],
          "name": "stdout"
        },
        {
          "output_type": "stream",
          "text": [
            "/usr/local/lib/python3.7/dist-packages/tensorflow/python/keras/engine/sequential.py:450: UserWarning: `model.predict_classes()` is deprecated and will be removed after 2021-01-01. Please use instead:* `np.argmax(model.predict(x), axis=-1)`,   if your model does multi-class classification   (e.g. if it uses a `softmax` last-layer activation).* `(model.predict(x) > 0.5).astype(\"int32\")`,   if your model does binary classification   (e.g. if it uses a `sigmoid` last-layer activation).\n",
            "  warnings.warn('`model.predict_classes()` is deprecated and '\n"
          ],
          "name": "stderr"
        }
      ]
    },
    {
      "cell_type": "code",
      "metadata": {
        "colab": {
          "base_uri": "https://localhost:8080/",
          "height": 334
        },
        "id": "LAQHamBp_xG6",
        "outputId": "ec2bb3b1-7a9f-4d39-f6c5-84a6991d6705"
      },
      "source": [
        "import matplotlib.pyplot as plt\n",
        "plt.figure(figsize=(20,5))\n",
        "plt.subplot(1, 2, 1 )\n",
        "plt.hist(y_test[:10])\n",
        "plt.xlabel('original target value')\n",
        "plt.ylabel('count')\n",
        "plt.subplot(1, 2, 2)\n",
        "plt.hist(pred)\n",
        "plt.xlabel('aggregated target value')\n",
        "plt.ylabel('count')\n",
        "plt.show()"
      ],
      "execution_count": null,
      "outputs": [
        {
          "output_type": "display_data",
          "data": {
            "image/png": "[encoded data removed]",
            "text/plain": [
              "<Figure size 1440x360 with 2 Axes>"
            ]
          },
          "metadata": {
            "tags": [],
            "needs_background": "light"
          }
        }
      ]
    },
    {
      "cell_type": "code",
      "metadata": {
        "id": "DnCSzKZI9WCS"
      },
      "source": [
        ""
      ],
      "execution_count": null,
      "outputs": []
    }
  ]
}