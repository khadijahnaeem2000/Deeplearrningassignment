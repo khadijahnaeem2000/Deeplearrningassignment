{
  "nbformat": 4,
  "nbformat_minor": 0,
  "metadata": {
    "kernelspec": {
      "display_name": "Python 3",
      "language": "python",
      "name": "python3"
    },
    "language_info": {
      "codemirror_mode": {
        "name": "ipython",
        "version": 3
      },
      "file_extension": ".py",
      "mimetype": "text/x-python",
      "name": "python",
      "nbconvert_exporter": "python",
      "pygments_lexer": "ipython3",
      "version": "3.7.6"
    },
    "colab": {
      "name": "Car_Price_Prediction (PIAIC93329).ipynb",
      "provenance": [],
      "collapsed_sections": [],
      "toc_visible": true
    }
  },
  "cells": [
    {
      "cell_type": "markdown",
      "metadata": {
        "id": "view-in-github"
      },
      "source": [
        "<a href=\"https://colab.research.google.com/github/sadaqatali1234/Deep-learning-assigments/blob/main/Car_Price_Prediction_assignment.ipynb\" target=\"_parent\"><img src=\"https://colab.research.google.com/assets/colab-badge.svg\" alt=\"Open In Colab\"/></a>"
      ]
    },
    {
      "cell_type": "markdown",
      "metadata": {
        "id": "sMNQWyN0xU9q"
      },
      "source": [
        "# Car Price Prediction::"
      ]
    },
    {
      "cell_type": "markdown",
      "metadata": {
        "id": "lRcwEJBbxU91"
      },
      "source": [
        "Download dataset from this link:\n",
        "\n",
        "https://www.kaggle.com/hellbuoy/car-price-prediction"
      ]
    },
    {
      "cell_type": "markdown",
      "metadata": {
        "id": "6iwzOdWVxU92"
      },
      "source": [
        "# Problem Statement::"
      ]
    },
    {
      "cell_type": "markdown",
      "metadata": {
        "id": "vdcrxOjJxU93"
      },
      "source": [
        "A Chinese automobile company Geely Auto aspires to enter the US market by setting up their manufacturing unit there and producing cars locally to give competition to their US and European counterparts.\n",
        "\n",
        "They have contracted an automobile consulting company to understand the factors on which the pricing of cars depends. Specifically, they want to understand the factors affecting the pricing of cars in the American market, since those may be very different from the Chinese market. The company wants to know:\n",
        "\n",
        "Which variables are significant in predicting the price of a car\n",
        "How well those variables describe the price of a car\n",
        "Based on various market surveys, the consulting firm has gathered a large data set of different types of cars across the America market.\n",
        "\n",
        "# task::\n",
        "We are required to model the price of cars with the available independent variables. It will be used by the management to understand how exactly the prices vary with the independent variables. They can accordingly manipulate the design of the cars, the business strategy etc. to meet certain price levels. Further, the model will be a good way for management to understand the pricing dynamics of a new market."
      ]
    },
    {
      "cell_type": "markdown",
      "metadata": {
        "id": "A9udJmRIxU94"
      },
      "source": [
        "# WORKFLOW ::"
      ]
    },
    {
      "cell_type": "markdown",
      "metadata": {
        "id": "Mg0LFipjxU94"
      },
      "source": [
        "1.Load Data\n",
        "\n",
        "2.Check Missing Values ( If Exist ; Fill each record with mean of its feature )\n",
        "\n",
        "3.Split into 50% Training(Samples,Labels) , 30% Test(Samples,Labels) and 20% Validation Data(Samples,Labels).\n",
        "\n",
        "4.Model : input Layer (No. of features ), 3 hidden layers including 10,8,6 unit & Output Layer with activation function relu/tanh (check by experiment).\n",
        "\n",
        "5.Compilation Step (Note : Its a Regression problem , select loss , metrics according to it)\n",
        "6.Train the Model with Epochs (100) and validate it\n",
        "\n",
        "7.If the model gets overfit tune your model by changing the units , No. of layers , activation function , epochs , add dropout layer or add Regularizer according to the need .\n",
        "\n",
        "8.Evaluation Step\n",
        "\n",
        "9.Prediction"
      ]
    },
    {
      "cell_type": "code",
      "metadata": {
        "id": "6p7Jhz5_xU95"
      },
      "source": [
        "# importing all libarires \n",
        "import numpy as np\n",
        "import pandas as pd\n",
        "import matplotlib.pyplot as plt\n",
        "import seaborn as sns\n",
        "\n"
      ],
      "execution_count": 1,
      "outputs": []
    },
    {
      "cell_type": "code",
      "metadata": {
        "id": "s6w_D6aiZGHl"
      },
      "source": [
        "import tensorflow as tf\n",
        "from keras import models,layers,optimizers,losses\n",
        "\n"
      ],
      "execution_count": 41,
      "outputs": []
    },
    {
      "cell_type": "code",
      "metadata": {
        "id": "Ed3u6UgMxU97"
      },
      "source": [
        "df = pd.read_csv(\"/content/CarPrice_Assignment.csv\")"
      ],
      "execution_count": 80,
      "outputs": []
    },
    {
      "cell_type": "markdown",
      "metadata": {
        "id": "r_UdiL8rMMAk"
      },
      "source": [
        "***Data cleaning and analyzing***"
      ]
    },
    {
      "cell_type": "code",
      "metadata": {
        "id": "QRE1LVNUxU97",
        "colab": {
          "base_uri": "https://localhost:8080/",
          "height": 266
        },
        "outputId": "ce53dc83-2a80-4d82-ec72-6b6cfcc41e12"
      },
      "source": [
        "#looking at data\n",
        "df.head()\n"
      ],
      "execution_count": 81,
      "outputs": [
        {
          "output_type": "execute_result",
          "data": {
            "text/html": [
              "<div>\n",
              "<style scoped>\n",
              "    .dataframe tbody tr th:only-of-type {\n",
              "        vertical-align: middle;\n",
              "    }\n",
              "\n",
              "    .dataframe tbody tr th {\n",
              "        vertical-align: top;\n",
              "    }\n",
              "\n",
              "    .dataframe thead th {\n",
              "        text-align: right;\n",
              "    }\n",
              "</style>\n",
              "<table border=\"1\" class=\"dataframe\">\n",
              "  <thead>\n",
              "    <tr style=\"text-align: right;\">\n",
              "      <th></th>\n",
              "      <th>car_ID</th>\n",
              "      <th>symboling</th>\n",
              "      <th>CarName</th>\n",
              "      <th>fueltype</th>\n",
              "      <th>aspiration</th>\n",
              "      <th>doornumber</th>\n",
              "      <th>carbody</th>\n",
              "      <th>drivewheel</th>\n",
              "      <th>enginelocation</th>\n",
              "      <th>wheelbase</th>\n",
              "      <th>carlength</th>\n",
              "      <th>carwidth</th>\n",
              "      <th>carheight</th>\n",
              "      <th>curbweight</th>\n",
              "      <th>enginetype</th>\n",
              "      <th>cylindernumber</th>\n",
              "      <th>enginesize</th>\n",
              "      <th>fuelsystem</th>\n",
              "      <th>boreratio</th>\n",
              "      <th>stroke</th>\n",
              "      <th>compressionratio</th>\n",
              "      <th>horsepower</th>\n",
              "      <th>peakrpm</th>\n",
              "      <th>citympg</th>\n",
              "      <th>highwaympg</th>\n",
              "      <th>price</th>\n",
              "    </tr>\n",
              "  </thead>\n",
              "  <tbody>\n",
              "    <tr>\n",
              "      <th>0</th>\n",
              "      <td>1</td>\n",
              "      <td>3</td>\n",
              "      <td>alfa-romero giulia</td>\n",
              "      <td>gas</td>\n",
              "      <td>std</td>\n",
              "      <td>two</td>\n",
              "      <td>convertible</td>\n",
              "      <td>rwd</td>\n",
              "      <td>front</td>\n",
              "      <td>88.6</td>\n",
              "      <td>168.8</td>\n",
              "      <td>64.1</td>\n",
              "      <td>48.8</td>\n",
              "      <td>2548</td>\n",
              "      <td>dohc</td>\n",
              "      <td>four</td>\n",
              "      <td>130</td>\n",
              "      <td>mpfi</td>\n",
              "      <td>3.47</td>\n",
              "      <td>2.68</td>\n",
              "      <td>9.0</td>\n",
              "      <td>111</td>\n",
              "      <td>5000</td>\n",
              "      <td>21</td>\n",
              "      <td>27</td>\n",
              "      <td>13495.0</td>\n",
              "    </tr>\n",
              "    <tr>\n",
              "      <th>1</th>\n",
              "      <td>2</td>\n",
              "      <td>3</td>\n",
              "      <td>alfa-romero stelvio</td>\n",
              "      <td>gas</td>\n",
              "      <td>std</td>\n",
              "      <td>two</td>\n",
              "      <td>convertible</td>\n",
              "      <td>rwd</td>\n",
              "      <td>front</td>\n",
              "      <td>88.6</td>\n",
              "      <td>168.8</td>\n",
              "      <td>64.1</td>\n",
              "      <td>48.8</td>\n",
              "      <td>2548</td>\n",
              "      <td>dohc</td>\n",
              "      <td>four</td>\n",
              "      <td>130</td>\n",
              "      <td>mpfi</td>\n",
              "      <td>3.47</td>\n",
              "      <td>2.68</td>\n",
              "      <td>9.0</td>\n",
              "      <td>111</td>\n",
              "      <td>5000</td>\n",
              "      <td>21</td>\n",
              "      <td>27</td>\n",
              "      <td>16500.0</td>\n",
              "    </tr>\n",
              "    <tr>\n",
              "      <th>2</th>\n",
              "      <td>3</td>\n",
              "      <td>1</td>\n",
              "      <td>alfa-romero Quadrifoglio</td>\n",
              "      <td>gas</td>\n",
              "      <td>std</td>\n",
              "      <td>two</td>\n",
              "      <td>hatchback</td>\n",
              "      <td>rwd</td>\n",
              "      <td>front</td>\n",
              "      <td>94.5</td>\n",
              "      <td>171.2</td>\n",
              "      <td>65.5</td>\n",
              "      <td>52.4</td>\n",
              "      <td>2823</td>\n",
              "      <td>ohcv</td>\n",
              "      <td>six</td>\n",
              "      <td>152</td>\n",
              "      <td>mpfi</td>\n",
              "      <td>2.68</td>\n",
              "      <td>3.47</td>\n",
              "      <td>9.0</td>\n",
              "      <td>154</td>\n",
              "      <td>5000</td>\n",
              "      <td>19</td>\n",
              "      <td>26</td>\n",
              "      <td>16500.0</td>\n",
              "    </tr>\n",
              "    <tr>\n",
              "      <th>3</th>\n",
              "      <td>4</td>\n",
              "      <td>2</td>\n",
              "      <td>audi 100 ls</td>\n",
              "      <td>gas</td>\n",
              "      <td>std</td>\n",
              "      <td>four</td>\n",
              "      <td>sedan</td>\n",
              "      <td>fwd</td>\n",
              "      <td>front</td>\n",
              "      <td>99.8</td>\n",
              "      <td>176.6</td>\n",
              "      <td>66.2</td>\n",
              "      <td>54.3</td>\n",
              "      <td>2337</td>\n",
              "      <td>ohc</td>\n",
              "      <td>four</td>\n",
              "      <td>109</td>\n",
              "      <td>mpfi</td>\n",
              "      <td>3.19</td>\n",
              "      <td>3.40</td>\n",
              "      <td>10.0</td>\n",
              "      <td>102</td>\n",
              "      <td>5500</td>\n",
              "      <td>24</td>\n",
              "      <td>30</td>\n",
              "      <td>13950.0</td>\n",
              "    </tr>\n",
              "    <tr>\n",
              "      <th>4</th>\n",
              "      <td>5</td>\n",
              "      <td>2</td>\n",
              "      <td>audi 100ls</td>\n",
              "      <td>gas</td>\n",
              "      <td>std</td>\n",
              "      <td>four</td>\n",
              "      <td>sedan</td>\n",
              "      <td>4wd</td>\n",
              "      <td>front</td>\n",
              "      <td>99.4</td>\n",
              "      <td>176.6</td>\n",
              "      <td>66.4</td>\n",
              "      <td>54.3</td>\n",
              "      <td>2824</td>\n",
              "      <td>ohc</td>\n",
              "      <td>five</td>\n",
              "      <td>136</td>\n",
              "      <td>mpfi</td>\n",
              "      <td>3.19</td>\n",
              "      <td>3.40</td>\n",
              "      <td>8.0</td>\n",
              "      <td>115</td>\n",
              "      <td>5500</td>\n",
              "      <td>18</td>\n",
              "      <td>22</td>\n",
              "      <td>17450.0</td>\n",
              "    </tr>\n",
              "  </tbody>\n",
              "</table>\n",
              "</div>"
            ],
            "text/plain": [
              "   car_ID  symboling                   CarName  ... citympg highwaympg    price\n",
              "0       1          3        alfa-romero giulia  ...      21         27  13495.0\n",
              "1       2          3       alfa-romero stelvio  ...      21         27  16500.0\n",
              "2       3          1  alfa-romero Quadrifoglio  ...      19         26  16500.0\n",
              "3       4          2               audi 100 ls  ...      24         30  13950.0\n",
              "4       5          2                audi 100ls  ...      18         22  17450.0\n",
              "\n",
              "[5 rows x 26 columns]"
            ]
          },
          "metadata": {
            "tags": []
          },
          "execution_count": 81
        }
      ]
    },
    {
      "cell_type": "code",
      "metadata": {
        "id": "T-NOrJvN0WjJ",
        "colab": {
          "base_uri": "https://localhost:8080/"
        },
        "outputId": "c1c11376-c061-4dcc-8d17-3f4d417f241f"
      },
      "source": [
        "#check for null\n",
        "df.isnull().sum()"
      ],
      "execution_count": 82,
      "outputs": [
        {
          "output_type": "execute_result",
          "data": {
            "text/plain": [
              "car_ID              0\n",
              "symboling           0\n",
              "CarName             0\n",
              "fueltype            0\n",
              "aspiration          0\n",
              "doornumber          0\n",
              "carbody             0\n",
              "drivewheel          0\n",
              "enginelocation      0\n",
              "wheelbase           0\n",
              "carlength           0\n",
              "carwidth            0\n",
              "carheight           0\n",
              "curbweight          0\n",
              "enginetype          0\n",
              "cylindernumber      0\n",
              "enginesize          0\n",
              "fuelsystem          0\n",
              "boreratio           0\n",
              "stroke              0\n",
              "compressionratio    0\n",
              "horsepower          0\n",
              "peakrpm             0\n",
              "citympg             0\n",
              "highwaympg          0\n",
              "price               0\n",
              "dtype: int64"
            ]
          },
          "metadata": {
            "tags": []
          },
          "execution_count": 82
        }
      ]
    },
    {
      "cell_type": "code",
      "metadata": {
        "id": "UZ3th2eh07jz",
        "colab": {
          "base_uri": "https://localhost:8080/",
          "height": 304
        },
        "outputId": "8bc38592-a3e2-442d-fad5-d016bd9292a7"
      },
      "source": [
        "# data description\n",
        "df.describe()"
      ],
      "execution_count": 83,
      "outputs": [
        {
          "output_type": "execute_result",
          "data": {
            "text/html": [
              "<div>\n",
              "<style scoped>\n",
              "    .dataframe tbody tr th:only-of-type {\n",
              "        vertical-align: middle;\n",
              "    }\n",
              "\n",
              "    .dataframe tbody tr th {\n",
              "        vertical-align: top;\n",
              "    }\n",
              "\n",
              "    .dataframe thead th {\n",
              "        text-align: right;\n",
              "    }\n",
              "</style>\n",
              "<table border=\"1\" class=\"dataframe\">\n",
              "  <thead>\n",
              "    <tr style=\"text-align: right;\">\n",
              "      <th></th>\n",
              "      <th>car_ID</th>\n",
              "      <th>symboling</th>\n",
              "      <th>wheelbase</th>\n",
              "      <th>carlength</th>\n",
              "      <th>carwidth</th>\n",
              "      <th>carheight</th>\n",
              "      <th>curbweight</th>\n",
              "      <th>enginesize</th>\n",
              "      <th>boreratio</th>\n",
              "      <th>stroke</th>\n",
              "      <th>compressionratio</th>\n",
              "      <th>horsepower</th>\n",
              "      <th>peakrpm</th>\n",
              "      <th>citympg</th>\n",
              "      <th>highwaympg</th>\n",
              "      <th>price</th>\n",
              "    </tr>\n",
              "  </thead>\n",
              "  <tbody>\n",
              "    <tr>\n",
              "      <th>count</th>\n",
              "      <td>205.000000</td>\n",
              "      <td>205.000000</td>\n",
              "      <td>205.000000</td>\n",
              "      <td>205.000000</td>\n",
              "      <td>205.000000</td>\n",
              "      <td>205.000000</td>\n",
              "      <td>205.000000</td>\n",
              "      <td>205.000000</td>\n",
              "      <td>205.000000</td>\n",
              "      <td>205.000000</td>\n",
              "      <td>205.000000</td>\n",
              "      <td>205.000000</td>\n",
              "      <td>205.000000</td>\n",
              "      <td>205.000000</td>\n",
              "      <td>205.000000</td>\n",
              "      <td>205.000000</td>\n",
              "    </tr>\n",
              "    <tr>\n",
              "      <th>mean</th>\n",
              "      <td>103.000000</td>\n",
              "      <td>0.834146</td>\n",
              "      <td>98.756585</td>\n",
              "      <td>174.049268</td>\n",
              "      <td>65.907805</td>\n",
              "      <td>53.724878</td>\n",
              "      <td>2555.565854</td>\n",
              "      <td>126.907317</td>\n",
              "      <td>3.329756</td>\n",
              "      <td>3.255415</td>\n",
              "      <td>10.142537</td>\n",
              "      <td>104.117073</td>\n",
              "      <td>5125.121951</td>\n",
              "      <td>25.219512</td>\n",
              "      <td>30.751220</td>\n",
              "      <td>13276.710571</td>\n",
              "    </tr>\n",
              "    <tr>\n",
              "      <th>std</th>\n",
              "      <td>59.322565</td>\n",
              "      <td>1.245307</td>\n",
              "      <td>6.021776</td>\n",
              "      <td>12.337289</td>\n",
              "      <td>2.145204</td>\n",
              "      <td>2.443522</td>\n",
              "      <td>520.680204</td>\n",
              "      <td>41.642693</td>\n",
              "      <td>0.270844</td>\n",
              "      <td>0.313597</td>\n",
              "      <td>3.972040</td>\n",
              "      <td>39.544167</td>\n",
              "      <td>476.985643</td>\n",
              "      <td>6.542142</td>\n",
              "      <td>6.886443</td>\n",
              "      <td>7988.852332</td>\n",
              "    </tr>\n",
              "    <tr>\n",
              "      <th>min</th>\n",
              "      <td>1.000000</td>\n",
              "      <td>-2.000000</td>\n",
              "      <td>86.600000</td>\n",
              "      <td>141.100000</td>\n",
              "      <td>60.300000</td>\n",
              "      <td>47.800000</td>\n",
              "      <td>1488.000000</td>\n",
              "      <td>61.000000</td>\n",
              "      <td>2.540000</td>\n",
              "      <td>2.070000</td>\n",
              "      <td>7.000000</td>\n",
              "      <td>48.000000</td>\n",
              "      <td>4150.000000</td>\n",
              "      <td>13.000000</td>\n",
              "      <td>16.000000</td>\n",
              "      <td>5118.000000</td>\n",
              "    </tr>\n",
              "    <tr>\n",
              "      <th>25%</th>\n",
              "      <td>52.000000</td>\n",
              "      <td>0.000000</td>\n",
              "      <td>94.500000</td>\n",
              "      <td>166.300000</td>\n",
              "      <td>64.100000</td>\n",
              "      <td>52.000000</td>\n",
              "      <td>2145.000000</td>\n",
              "      <td>97.000000</td>\n",
              "      <td>3.150000</td>\n",
              "      <td>3.110000</td>\n",
              "      <td>8.600000</td>\n",
              "      <td>70.000000</td>\n",
              "      <td>4800.000000</td>\n",
              "      <td>19.000000</td>\n",
              "      <td>25.000000</td>\n",
              "      <td>7788.000000</td>\n",
              "    </tr>\n",
              "    <tr>\n",
              "      <th>50%</th>\n",
              "      <td>103.000000</td>\n",
              "      <td>1.000000</td>\n",
              "      <td>97.000000</td>\n",
              "      <td>173.200000</td>\n",
              "      <td>65.500000</td>\n",
              "      <td>54.100000</td>\n",
              "      <td>2414.000000</td>\n",
              "      <td>120.000000</td>\n",
              "      <td>3.310000</td>\n",
              "      <td>3.290000</td>\n",
              "      <td>9.000000</td>\n",
              "      <td>95.000000</td>\n",
              "      <td>5200.000000</td>\n",
              "      <td>24.000000</td>\n",
              "      <td>30.000000</td>\n",
              "      <td>10295.000000</td>\n",
              "    </tr>\n",
              "    <tr>\n",
              "      <th>75%</th>\n",
              "      <td>154.000000</td>\n",
              "      <td>2.000000</td>\n",
              "      <td>102.400000</td>\n",
              "      <td>183.100000</td>\n",
              "      <td>66.900000</td>\n",
              "      <td>55.500000</td>\n",
              "      <td>2935.000000</td>\n",
              "      <td>141.000000</td>\n",
              "      <td>3.580000</td>\n",
              "      <td>3.410000</td>\n",
              "      <td>9.400000</td>\n",
              "      <td>116.000000</td>\n",
              "      <td>5500.000000</td>\n",
              "      <td>30.000000</td>\n",
              "      <td>34.000000</td>\n",
              "      <td>16503.000000</td>\n",
              "    </tr>\n",
              "    <tr>\n",
              "      <th>max</th>\n",
              "      <td>205.000000</td>\n",
              "      <td>3.000000</td>\n",
              "      <td>120.900000</td>\n",
              "      <td>208.100000</td>\n",
              "      <td>72.300000</td>\n",
              "      <td>59.800000</td>\n",
              "      <td>4066.000000</td>\n",
              "      <td>326.000000</td>\n",
              "      <td>3.940000</td>\n",
              "      <td>4.170000</td>\n",
              "      <td>23.000000</td>\n",
              "      <td>288.000000</td>\n",
              "      <td>6600.000000</td>\n",
              "      <td>49.000000</td>\n",
              "      <td>54.000000</td>\n",
              "      <td>45400.000000</td>\n",
              "    </tr>\n",
              "  </tbody>\n",
              "</table>\n",
              "</div>"
            ],
            "text/plain": [
              "           car_ID   symboling   wheelbase  ...     citympg  highwaympg         price\n",
              "count  205.000000  205.000000  205.000000  ...  205.000000  205.000000    205.000000\n",
              "mean   103.000000    0.834146   98.756585  ...   25.219512   30.751220  13276.710571\n",
              "std     59.322565    1.245307    6.021776  ...    6.542142    6.886443   7988.852332\n",
              "min      1.000000   -2.000000   86.600000  ...   13.000000   16.000000   5118.000000\n",
              "25%     52.000000    0.000000   94.500000  ...   19.000000   25.000000   7788.000000\n",
              "50%    103.000000    1.000000   97.000000  ...   24.000000   30.000000  10295.000000\n",
              "75%    154.000000    2.000000  102.400000  ...   30.000000   34.000000  16503.000000\n",
              "max    205.000000    3.000000  120.900000  ...   49.000000   54.000000  45400.000000\n",
              "\n",
              "[8 rows x 16 columns]"
            ]
          },
          "metadata": {
            "tags": []
          },
          "execution_count": 83
        }
      ]
    },
    {
      "cell_type": "code",
      "metadata": {
        "id": "Gfbzc1Pa1kqs",
        "colab": {
          "base_uri": "https://localhost:8080/"
        },
        "outputId": "1811c725-91f9-47f9-f506-de51b73be461"
      },
      "source": [
        "#complete info\n",
        "df.info()"
      ],
      "execution_count": 84,
      "outputs": [
        {
          "output_type": "stream",
          "text": [
            "<class 'pandas.core.frame.DataFrame'>\n",
            "RangeIndex: 205 entries, 0 to 204\n",
            "Data columns (total 26 columns):\n",
            " #   Column            Non-Null Count  Dtype  \n",
            "---  ------            --------------  -----  \n",
            " 0   car_ID            205 non-null    int64  \n",
            " 1   symboling         205 non-null    int64  \n",
            " 2   CarName           205 non-null    object \n",
            " 3   fueltype          205 non-null    object \n",
            " 4   aspiration        205 non-null    object \n",
            " 5   doornumber        205 non-null    object \n",
            " 6   carbody           205 non-null    object \n",
            " 7   drivewheel        205 non-null    object \n",
            " 8   enginelocation    205 non-null    object \n",
            " 9   wheelbase         205 non-null    float64\n",
            " 10  carlength         205 non-null    float64\n",
            " 11  carwidth          205 non-null    float64\n",
            " 12  carheight         205 non-null    float64\n",
            " 13  curbweight        205 non-null    int64  \n",
            " 14  enginetype        205 non-null    object \n",
            " 15  cylindernumber    205 non-null    object \n",
            " 16  enginesize        205 non-null    int64  \n",
            " 17  fuelsystem        205 non-null    object \n",
            " 18  boreratio         205 non-null    float64\n",
            " 19  stroke            205 non-null    float64\n",
            " 20  compressionratio  205 non-null    float64\n",
            " 21  horsepower        205 non-null    int64  \n",
            " 22  peakrpm           205 non-null    int64  \n",
            " 23  citympg           205 non-null    int64  \n",
            " 24  highwaympg        205 non-null    int64  \n",
            " 25  price             205 non-null    float64\n",
            "dtypes: float64(8), int64(8), object(10)\n",
            "memory usage: 41.8+ KB\n"
          ],
          "name": "stdout"
        }
      ]
    },
    {
      "cell_type": "code",
      "metadata": {
        "id": "NlMuMo5B3Hgm",
        "colab": {
          "base_uri": "https://localhost:8080/"
        },
        "outputId": "3d7253c6-1822-4ecc-b221-4401b37cd4a6"
      },
      "source": [
        "# check for duplication\n",
        "df.duplicated().any()"
      ],
      "execution_count": 8,
      "outputs": [
        {
          "output_type": "execute_result",
          "data": {
            "text/plain": [
              "False"
            ]
          },
          "metadata": {
            "tags": []
          },
          "execution_count": 8
        }
      ]
    },
    {
      "cell_type": "code",
      "metadata": {
        "id": "Q1mh6UfdCqoz"
      },
      "source": [
        "# spliting into input and output\n",
        "x=df.iloc[:,:-1]\n",
        "y=df.iloc[:,-1]\n",
        "\n"
      ],
      "execution_count": 87,
      "outputs": []
    },
    {
      "cell_type": "code",
      "metadata": {
        "id": "3OZ3H6BTVHOr",
        "colab": {
          "base_uri": "https://localhost:8080/"
        },
        "outputId": "abe8d08f-0f75-4302-b5cf-f4a1cd3fa92d"
      },
      "source": [
        "#dropping string data\n",
        "x.drop(x.select_dtypes(include='object'),axis=1,inplace=True)\n",
        "x.info()"
      ],
      "execution_count": 88,
      "outputs": [
        {
          "output_type": "stream",
          "text": [
            "<class 'pandas.core.frame.DataFrame'>\n",
            "RangeIndex: 205 entries, 0 to 204\n",
            "Data columns (total 15 columns):\n",
            " #   Column            Non-Null Count  Dtype  \n",
            "---  ------            --------------  -----  \n",
            " 0   car_ID            205 non-null    int64  \n",
            " 1   symboling         205 non-null    int64  \n",
            " 2   wheelbase         205 non-null    float64\n",
            " 3   carlength         205 non-null    float64\n",
            " 4   carwidth          205 non-null    float64\n",
            " 5   carheight         205 non-null    float64\n",
            " 6   curbweight        205 non-null    int64  \n",
            " 7   enginesize        205 non-null    int64  \n",
            " 8   boreratio         205 non-null    float64\n",
            " 9   stroke            205 non-null    float64\n",
            " 10  compressionratio  205 non-null    float64\n",
            " 11  horsepower        205 non-null    int64  \n",
            " 12  peakrpm           205 non-null    int64  \n",
            " 13  citympg           205 non-null    int64  \n",
            " 14  highwaympg        205 non-null    int64  \n",
            "dtypes: float64(7), int64(8)\n",
            "memory usage: 24.1 KB\n"
          ],
          "name": "stdout"
        }
      ]
    },
    {
      "cell_type": "code",
      "metadata": {
        "id": "demtKuus0kys",
        "colab": {
          "base_uri": "https://localhost:8080/"
        },
        "outputId": "1694a652-18f5-4823-d475-8995f976934b"
      },
      "source": [
        "# checking the shape of input and output\n",
        "x.shape"
      ],
      "execution_count": 89,
      "outputs": [
        {
          "output_type": "execute_result",
          "data": {
            "text/plain": [
              "(205, 15)"
            ]
          },
          "metadata": {
            "tags": []
          },
          "execution_count": 89
        }
      ]
    },
    {
      "cell_type": "code",
      "metadata": {
        "colab": {
          "base_uri": "https://localhost:8080/"
        },
        "id": "23ZhKG5HVb86",
        "outputId": "6f32fff9-2496-4dfb-f77f-14f8521c4ff1"
      },
      "source": [
        "# checking the shape of input and output\n",
        "y.shape"
      ],
      "execution_count": 90,
      "outputs": [
        {
          "output_type": "execute_result",
          "data": {
            "text/plain": [
              "(205,)"
            ]
          },
          "metadata": {
            "tags": []
          },
          "execution_count": 90
        }
      ]
    },
    {
      "cell_type": "markdown",
      "metadata": {
        "id": "MFpUG2UYVhvC"
      },
      "source": [
        "Now split data for training and testing\n"
      ]
    },
    {
      "cell_type": "code",
      "metadata": {
        "id": "pIe-zkdE3qs6",
        "colab": {
          "base_uri": "https://localhost:8080/"
        },
        "outputId": "6dfdc497-d04a-40cd-a2bf-bbce79dd880f"
      },
      "source": [
        "x_train=x.sample(frac=0.7, random_state=1,axis=0)\n",
        "y_train=y.sample(frac=0.7, random_state=1,axis=0)\n",
        "x_train.info()"
      ],
      "execution_count": 91,
      "outputs": [
        {
          "output_type": "stream",
          "text": [
            "<class 'pandas.core.frame.DataFrame'>\n",
            "Int64Index: 144 entries, 78 to 175\n",
            "Data columns (total 15 columns):\n",
            " #   Column            Non-Null Count  Dtype  \n",
            "---  ------            --------------  -----  \n",
            " 0   car_ID            144 non-null    int64  \n",
            " 1   symboling         144 non-null    int64  \n",
            " 2   wheelbase         144 non-null    float64\n",
            " 3   carlength         144 non-null    float64\n",
            " 4   carwidth          144 non-null    float64\n",
            " 5   carheight         144 non-null    float64\n",
            " 6   curbweight        144 non-null    int64  \n",
            " 7   enginesize        144 non-null    int64  \n",
            " 8   boreratio         144 non-null    float64\n",
            " 9   stroke            144 non-null    float64\n",
            " 10  compressionratio  144 non-null    float64\n",
            " 11  horsepower        144 non-null    int64  \n",
            " 12  peakrpm           144 non-null    int64  \n",
            " 13  citympg           144 non-null    int64  \n",
            " 14  highwaympg        144 non-null    int64  \n",
            "dtypes: float64(7), int64(8)\n",
            "memory usage: 18.0 KB\n"
          ],
          "name": "stdout"
        }
      ]
    },
    {
      "cell_type": "code",
      "metadata": {
        "id": "ls4tWALd6Pzz"
      },
      "source": [
        "# spliting \n",
        "x_test=x.sample(frac=0.3, replace=True, random_state=1,axis=0)\n",
        "y_test=y.sample(frac=0.3, replace=True, random_state=1,axis=0)"
      ],
      "execution_count": 92,
      "outputs": []
    },
    {
      "cell_type": "code",
      "metadata": {
        "id": "SCDVPUsm4ZaE",
        "colab": {
          "base_uri": "https://localhost:8080/"
        },
        "outputId": "fbe127db-b334-49e0-d8b7-c81b35907c5f"
      },
      "source": [
        "#shape of train and test\n",
        "x_train.shape\n"
      ],
      "execution_count": 93,
      "outputs": [
        {
          "output_type": "execute_result",
          "data": {
            "text/plain": [
              "(144, 15)"
            ]
          },
          "metadata": {
            "tags": []
          },
          "execution_count": 93
        }
      ]
    },
    {
      "cell_type": "code",
      "metadata": {
        "colab": {
          "base_uri": "https://localhost:8080/"
        },
        "id": "4yaTJy5fWJ0f",
        "outputId": "4239d87e-a50b-4514-fbbc-81f5d12cba45"
      },
      "source": [
        "x_test.shape"
      ],
      "execution_count": 94,
      "outputs": [
        {
          "output_type": "execute_result",
          "data": {
            "text/plain": [
              "(62, 15)"
            ]
          },
          "metadata": {
            "tags": []
          },
          "execution_count": 94
        }
      ]
    },
    {
      "cell_type": "code",
      "metadata": {
        "colab": {
          "base_uri": "https://localhost:8080/"
        },
        "id": "luzaNpCCWNOE",
        "outputId": "ac7408b4-3bb5-482a-8f58-9f761d8ff3ca"
      },
      "source": [
        "y_train.shape"
      ],
      "execution_count": 95,
      "outputs": [
        {
          "output_type": "execute_result",
          "data": {
            "text/plain": [
              "(144,)"
            ]
          },
          "metadata": {
            "tags": []
          },
          "execution_count": 95
        }
      ]
    },
    {
      "cell_type": "markdown",
      "metadata": {
        "id": "wSGxjnkRWXd4"
      },
      "source": [
        "Normalising"
      ]
    },
    {
      "cell_type": "code",
      "metadata": {
        "id": "tZHITtDV2RrM"
      },
      "source": [
        "x_train=np.asarray(x_train).astype(\"float32\")\n",
        "x_test=np.asarray(x_test).astype(\"float32\")"
      ],
      "execution_count": 96,
      "outputs": []
    },
    {
      "cell_type": "code",
      "metadata": {
        "id": "6kW2_oHrSi-F"
      },
      "source": [
        "mean = x_train.mean(axis=0)\n",
        "x_train-= mean\n",
        "std = x_train.std(axis=0)\n",
        "x_train/= std\n",
        "x_test-= mean\n",
        "x_test/= std"
      ],
      "execution_count": 97,
      "outputs": []
    },
    {
      "cell_type": "code",
      "metadata": {
        "id": "fdeIgaOLX9GO"
      },
      "source": [
        "# for labels \n",
        "y_mean = y_train.mean(axis=0)\n",
        "y_train-= y_mean\n",
        "y_std = y_train.std(axis=0)\n",
        "y_train/= y_std\n",
        "y_test-= y_mean\n",
        "y_test/= y_std"
      ],
      "execution_count": 99,
      "outputs": []
    },
    {
      "cell_type": "code",
      "metadata": {
        "id": "DDddSyUv8k4F"
      },
      "source": [
        "# validation \n",
        "val_x=x_train[:20]\n",
        "partial_x_train=x_train[80:]\n",
        "val_y=y_train[:20]\n",
        "partial_y_train=y_train[80:]"
      ],
      "execution_count": 100,
      "outputs": []
    },
    {
      "cell_type": "code",
      "metadata": {
        "colab": {
          "base_uri": "https://localhost:8080/"
        },
        "id": "DGmxiwp2Yq1i",
        "outputId": "290c1462-469f-4e60-efff-f5721a7dfc7f"
      },
      "source": [
        "val_x.shape"
      ],
      "execution_count": 101,
      "outputs": [
        {
          "output_type": "execute_result",
          "data": {
            "text/plain": [
              "(20, 15)"
            ]
          },
          "metadata": {
            "tags": []
          },
          "execution_count": 101
        }
      ]
    },
    {
      "cell_type": "code",
      "metadata": {
        "colab": {
          "base_uri": "https://localhost:8080/"
        },
        "id": "XpBORsZAY5fs",
        "outputId": "2c3ed0cb-91c2-410a-92b0-e32bd4244e2e"
      },
      "source": [
        "partial_x_train.shape"
      ],
      "execution_count": 58,
      "outputs": [
        {
          "output_type": "execute_result",
          "data": {
            "text/plain": [
              "(64, 15)"
            ]
          },
          "metadata": {
            "tags": []
          },
          "execution_count": 58
        }
      ]
    },
    {
      "cell_type": "code",
      "metadata": {
        "colab": {
          "base_uri": "https://localhost:8080/"
        },
        "id": "QaQ3ITKwZnBG",
        "outputId": "12a155c3-56d1-4b55-94bd-30bb6ce9cd61"
      },
      "source": [
        "inputshape=(x_train.shape[1],)\n",
        "inputshape"
      ],
      "execution_count": 102,
      "outputs": [
        {
          "output_type": "execute_result",
          "data": {
            "text/plain": [
              "(15,)"
            ]
          },
          "metadata": {
            "tags": []
          },
          "execution_count": 102
        }
      ]
    },
    {
      "cell_type": "code",
      "metadata": {
        "id": "tzNVnHUf3ffq"
      },
      "source": [
        "#model\n",
        "mynet=models.Sequential()\n",
        "mynet.add(layers.Dense(10,activation=\"relu\" ,input_shape=inputshape))\n",
        "mynet.add(layers.Dropout(0.2))\n",
        "mynet.add(layers.Dense(8,activation=\"relu\"))\n",
        "#mynet.add(layers.Dropout(0.3))\n",
        "mynet.add(layers.Dense(6,activation=\"relu\"))\n",
        "#mynet.add(layers.Dropout(0.3))\n",
        "mynet.add(layers.Dense(1))"
      ],
      "execution_count": 103,
      "outputs": []
    },
    {
      "cell_type": "code",
      "metadata": {
        "id": "v_nWZA0N6dvU"
      },
      "source": [
        "#letscompile\n",
        "#mynet.compile(optimizer=\"rmsprop\",loss=\"mse\",metrics=[\"accuracy\"])\n",
        "mynet.compile(optimizer=\"rmsprop\",loss=\"mse\",metrics=[\"mae\"])"
      ],
      "execution_count": 104,
      "outputs": []
    },
    {
      "cell_type": "code",
      "metadata": {
        "id": "KuqIjhIy6bGC",
        "colab": {
          "base_uri": "https://localhost:8080/"
        },
        "outputId": "641e1968-7d86-4552-f579-40c66610f0e6"
      },
      "source": [
        "\n",
        "mynet.summary()"
      ],
      "execution_count": 105,
      "outputs": [
        {
          "output_type": "stream",
          "text": [
            "Model: \"sequential_3\"\n",
            "_________________________________________________________________\n",
            "Layer (type)                 Output Shape              Param #   \n",
            "=================================================================\n",
            "dense_12 (Dense)             (None, 10)                160       \n",
            "_________________________________________________________________\n",
            "dropout_3 (Dropout)          (None, 10)                0         \n",
            "_________________________________________________________________\n",
            "dense_13 (Dense)             (None, 8)                 88        \n",
            "_________________________________________________________________\n",
            "dense_14 (Dense)             (None, 6)                 54        \n",
            "_________________________________________________________________\n",
            "dense_15 (Dense)             (None, 1)                 7         \n",
            "=================================================================\n",
            "Total params: 309\n",
            "Trainable params: 309\n",
            "Non-trainable params: 0\n",
            "_________________________________________________________________\n"
          ],
          "name": "stdout"
        }
      ]
    },
    {
      "cell_type": "code",
      "metadata": {
        "id": "QliTGCi94XDc",
        "colab": {
          "base_uri": "https://localhost:8080/"
        },
        "outputId": "8b11e4d2-ab7c-412e-f451-64becddc34b6"
      },
      "source": [
        "#train model\n",
        "history=mynet.fit(partial_x_train, partial_y_train,epochs=90, batch_size=1, verbose=1,validation_data=(val_x,val_y))\n",
        "#history=mynet.fit(partial_x_train, partial_y_train,epochs=85, batch_size=1, verbose=1,validation_data=(val_x,val_y))"
      ],
      "execution_count": 106,
      "outputs": [
        {
          "output_type": "stream",
          "text": [
            "Epoch 1/90\n",
            "64/64 [==============================] - 1s 8ms/step - loss: 4.2031 - mae: 1.4806 - val_loss: 0.8811 - val_mae: 0.7431\n",
            "Epoch 2/90\n",
            "64/64 [==============================] - 0s 2ms/step - loss: 2.9451 - mae: 1.1161 - val_loss: 0.5091 - val_mae: 0.6045\n",
            "Epoch 3/90\n",
            "64/64 [==============================] - 0s 2ms/step - loss: 0.6613 - mae: 0.6454 - val_loss: 0.3232 - val_mae: 0.5046\n",
            "Epoch 4/90\n",
            "64/64 [==============================] - 0s 2ms/step - loss: 0.7000 - mae: 0.5339 - val_loss: 0.2511 - val_mae: 0.4366\n",
            "Epoch 5/90\n",
            "64/64 [==============================] - 0s 2ms/step - loss: 0.7933 - mae: 0.5856 - val_loss: 0.1978 - val_mae: 0.3828\n",
            "Epoch 6/90\n",
            "64/64 [==============================] - 0s 2ms/step - loss: 0.4649 - mae: 0.5118 - val_loss: 0.1632 - val_mae: 0.3530\n",
            "Epoch 7/90\n",
            "64/64 [==============================] - 0s 2ms/step - loss: 0.9289 - mae: 0.6602 - val_loss: 0.1333 - val_mae: 0.3087\n",
            "Epoch 8/90\n",
            "64/64 [==============================] - 0s 2ms/step - loss: 0.3135 - mae: 0.4367 - val_loss: 0.1149 - val_mae: 0.2850\n",
            "Epoch 9/90\n",
            "64/64 [==============================] - 0s 2ms/step - loss: 0.3900 - mae: 0.4674 - val_loss: 0.1103 - val_mae: 0.2815\n",
            "Epoch 10/90\n",
            "64/64 [==============================] - 0s 2ms/step - loss: 0.5442 - mae: 0.5157 - val_loss: 0.0970 - val_mae: 0.2581\n",
            "Epoch 11/90\n",
            "64/64 [==============================] - 0s 2ms/step - loss: 0.2874 - mae: 0.3884 - val_loss: 0.0856 - val_mae: 0.2427\n",
            "Epoch 12/90\n",
            "64/64 [==============================] - 0s 2ms/step - loss: 0.3980 - mae: 0.4871 - val_loss: 0.0879 - val_mae: 0.2375\n",
            "Epoch 13/90\n",
            "64/64 [==============================] - 0s 2ms/step - loss: 0.2804 - mae: 0.3276 - val_loss: 0.0823 - val_mae: 0.2311\n",
            "Epoch 14/90\n",
            "64/64 [==============================] - 0s 2ms/step - loss: 0.2233 - mae: 0.3216 - val_loss: 0.0778 - val_mae: 0.2173\n",
            "Epoch 15/90\n",
            "64/64 [==============================] - 0s 2ms/step - loss: 0.6188 - mae: 0.4680 - val_loss: 0.0711 - val_mae: 0.2136\n",
            "Epoch 16/90\n",
            "64/64 [==============================] - 0s 2ms/step - loss: 0.3226 - mae: 0.3355 - val_loss: 0.0663 - val_mae: 0.2035\n",
            "Epoch 17/90\n",
            "64/64 [==============================] - 0s 2ms/step - loss: 0.4034 - mae: 0.4184 - val_loss: 0.0651 - val_mae: 0.2004\n",
            "Epoch 18/90\n",
            "64/64 [==============================] - 0s 2ms/step - loss: 0.2192 - mae: 0.3466 - val_loss: 0.0636 - val_mae: 0.1981\n",
            "Epoch 19/90\n",
            "64/64 [==============================] - 0s 2ms/step - loss: 0.3168 - mae: 0.3906 - val_loss: 0.0616 - val_mae: 0.1925\n",
            "Epoch 20/90\n",
            "64/64 [==============================] - 0s 2ms/step - loss: 0.3400 - mae: 0.3454 - val_loss: 0.0643 - val_mae: 0.1927\n",
            "Epoch 21/90\n",
            "64/64 [==============================] - 0s 2ms/step - loss: 0.2432 - mae: 0.3150 - val_loss: 0.0622 - val_mae: 0.1877\n",
            "Epoch 22/90\n",
            "64/64 [==============================] - 0s 2ms/step - loss: 0.3669 - mae: 0.3688 - val_loss: 0.0656 - val_mae: 0.1872\n",
            "Epoch 23/90\n",
            "64/64 [==============================] - 0s 2ms/step - loss: 0.1283 - mae: 0.2320 - val_loss: 0.0712 - val_mae: 0.2047\n",
            "Epoch 24/90\n",
            "64/64 [==============================] - 0s 2ms/step - loss: 0.1502 - mae: 0.2814 - val_loss: 0.0744 - val_mae: 0.2075\n",
            "Epoch 25/90\n",
            "64/64 [==============================] - 0s 2ms/step - loss: 0.5412 - mae: 0.4387 - val_loss: 0.0780 - val_mae: 0.2087\n",
            "Epoch 26/90\n",
            "64/64 [==============================] - 0s 2ms/step - loss: 0.2064 - mae: 0.2943 - val_loss: 0.0772 - val_mae: 0.2081\n",
            "Epoch 27/90\n",
            "64/64 [==============================] - 0s 2ms/step - loss: 0.2304 - mae: 0.3075 - val_loss: 0.0732 - val_mae: 0.2017\n",
            "Epoch 28/90\n",
            "64/64 [==============================] - 0s 2ms/step - loss: 0.4525 - mae: 0.4436 - val_loss: 0.0752 - val_mae: 0.2064\n",
            "Epoch 29/90\n",
            "64/64 [==============================] - 0s 2ms/step - loss: 0.2997 - mae: 0.3569 - val_loss: 0.0693 - val_mae: 0.1958\n",
            "Epoch 30/90\n",
            "64/64 [==============================] - 0s 2ms/step - loss: 0.3044 - mae: 0.3538 - val_loss: 0.0700 - val_mae: 0.1954\n",
            "Epoch 31/90\n",
            "64/64 [==============================] - 0s 2ms/step - loss: 0.1714 - mae: 0.2763 - val_loss: 0.0720 - val_mae: 0.2001\n",
            "Epoch 32/90\n",
            "64/64 [==============================] - 0s 2ms/step - loss: 0.0904 - mae: 0.2102 - val_loss: 0.0686 - val_mae: 0.2072\n",
            "Epoch 33/90\n",
            "64/64 [==============================] - 0s 2ms/step - loss: 0.3195 - mae: 0.3025 - val_loss: 0.0684 - val_mae: 0.2055\n",
            "Epoch 34/90\n",
            "64/64 [==============================] - 0s 2ms/step - loss: 0.2742 - mae: 0.2967 - val_loss: 0.0689 - val_mae: 0.2068\n",
            "Epoch 35/90\n",
            "64/64 [==============================] - 0s 2ms/step - loss: 0.1536 - mae: 0.2227 - val_loss: 0.0680 - val_mae: 0.2069\n",
            "Epoch 36/90\n",
            "64/64 [==============================] - 0s 2ms/step - loss: 0.1870 - mae: 0.2676 - val_loss: 0.0682 - val_mae: 0.2056\n",
            "Epoch 37/90\n",
            "64/64 [==============================] - 0s 2ms/step - loss: 0.2152 - mae: 0.3265 - val_loss: 0.0777 - val_mae: 0.2166\n",
            "Epoch 38/90\n",
            "64/64 [==============================] - 0s 2ms/step - loss: 0.1699 - mae: 0.2634 - val_loss: 0.0764 - val_mae: 0.2187\n",
            "Epoch 39/90\n",
            "64/64 [==============================] - 0s 2ms/step - loss: 0.1480 - mae: 0.2393 - val_loss: 0.0735 - val_mae: 0.2157\n",
            "Epoch 40/90\n",
            "64/64 [==============================] - 0s 2ms/step - loss: 0.2846 - mae: 0.3560 - val_loss: 0.0737 - val_mae: 0.2172\n",
            "Epoch 41/90\n",
            "64/64 [==============================] - 0s 2ms/step - loss: 0.1662 - mae: 0.2462 - val_loss: 0.0716 - val_mae: 0.2148\n",
            "Epoch 42/90\n",
            "64/64 [==============================] - 0s 2ms/step - loss: 0.3264 - mae: 0.3572 - val_loss: 0.0751 - val_mae: 0.2177\n",
            "Epoch 43/90\n",
            "64/64 [==============================] - 0s 2ms/step - loss: 0.1549 - mae: 0.2605 - val_loss: 0.0740 - val_mae: 0.2210\n",
            "Epoch 44/90\n",
            "64/64 [==============================] - 0s 2ms/step - loss: 0.3052 - mae: 0.3306 - val_loss: 0.0744 - val_mae: 0.2172\n",
            "Epoch 45/90\n",
            "64/64 [==============================] - 0s 2ms/step - loss: 0.1979 - mae: 0.2709 - val_loss: 0.0767 - val_mae: 0.2235\n",
            "Epoch 46/90\n",
            "64/64 [==============================] - 0s 2ms/step - loss: 0.1741 - mae: 0.2854 - val_loss: 0.0738 - val_mae: 0.2203\n",
            "Epoch 47/90\n",
            "64/64 [==============================] - 0s 2ms/step - loss: 0.1197 - mae: 0.2315 - val_loss: 0.0748 - val_mae: 0.2217\n",
            "Epoch 48/90\n",
            "64/64 [==============================] - 0s 2ms/step - loss: 0.0974 - mae: 0.2104 - val_loss: 0.0784 - val_mae: 0.2241\n",
            "Epoch 49/90\n",
            "64/64 [==============================] - 0s 2ms/step - loss: 0.2711 - mae: 0.3125 - val_loss: 0.0861 - val_mae: 0.2312\n",
            "Epoch 50/90\n",
            "64/64 [==============================] - 0s 2ms/step - loss: 0.0827 - mae: 0.1796 - val_loss: 0.0832 - val_mae: 0.2268\n",
            "Epoch 51/90\n",
            "64/64 [==============================] - 0s 2ms/step - loss: 0.2252 - mae: 0.2653 - val_loss: 0.0859 - val_mae: 0.2327\n",
            "Epoch 52/90\n",
            "64/64 [==============================] - 0s 2ms/step - loss: 0.1036 - mae: 0.2263 - val_loss: 0.0823 - val_mae: 0.2288\n",
            "Epoch 53/90\n",
            "64/64 [==============================] - 0s 2ms/step - loss: 0.2035 - mae: 0.2494 - val_loss: 0.0862 - val_mae: 0.2254\n",
            "Epoch 54/90\n",
            "64/64 [==============================] - 0s 2ms/step - loss: 0.2630 - mae: 0.2876 - val_loss: 0.0807 - val_mae: 0.2207\n",
            "Epoch 55/90\n",
            "64/64 [==============================] - 0s 2ms/step - loss: 0.1811 - mae: 0.2278 - val_loss: 0.0825 - val_mae: 0.2225\n",
            "Epoch 56/90\n",
            "64/64 [==============================] - 0s 2ms/step - loss: 0.3460 - mae: 0.3905 - val_loss: 0.0874 - val_mae: 0.2300\n",
            "Epoch 57/90\n",
            "64/64 [==============================] - 0s 2ms/step - loss: 0.2552 - mae: 0.2570 - val_loss: 0.0867 - val_mae: 0.2251\n",
            "Epoch 58/90\n",
            "64/64 [==============================] - 0s 2ms/step - loss: 0.1586 - mae: 0.2231 - val_loss: 0.0859 - val_mae: 0.2240\n",
            "Epoch 59/90\n",
            "64/64 [==============================] - 0s 2ms/step - loss: 0.2121 - mae: 0.2511 - val_loss: 0.0790 - val_mae: 0.2225\n",
            "Epoch 60/90\n",
            "64/64 [==============================] - 0s 2ms/step - loss: 0.1788 - mae: 0.2931 - val_loss: 0.0780 - val_mae: 0.2212\n",
            "Epoch 61/90\n",
            "64/64 [==============================] - 0s 2ms/step - loss: 0.1081 - mae: 0.2009 - val_loss: 0.0834 - val_mae: 0.2268\n",
            "Epoch 62/90\n",
            "64/64 [==============================] - 0s 2ms/step - loss: 0.2064 - mae: 0.3254 - val_loss: 0.0851 - val_mae: 0.2304\n",
            "Epoch 63/90\n",
            "64/64 [==============================] - 0s 2ms/step - loss: 0.3328 - mae: 0.2936 - val_loss: 0.0857 - val_mae: 0.2283\n",
            "Epoch 64/90\n",
            "64/64 [==============================] - 0s 2ms/step - loss: 0.1939 - mae: 0.2426 - val_loss: 0.0806 - val_mae: 0.2229\n",
            "Epoch 65/90\n",
            "64/64 [==============================] - 0s 2ms/step - loss: 0.2682 - mae: 0.2628 - val_loss: 0.0871 - val_mae: 0.2276\n",
            "Epoch 66/90\n",
            "64/64 [==============================] - 0s 2ms/step - loss: 0.1136 - mae: 0.2315 - val_loss: 0.0771 - val_mae: 0.2178\n",
            "Epoch 67/90\n",
            "64/64 [==============================] - 0s 2ms/step - loss: 0.1183 - mae: 0.2304 - val_loss: 0.0748 - val_mae: 0.2161\n",
            "Epoch 68/90\n",
            "64/64 [==============================] - 0s 2ms/step - loss: 0.1636 - mae: 0.2743 - val_loss: 0.0722 - val_mae: 0.2106\n",
            "Epoch 69/90\n",
            "64/64 [==============================] - 0s 2ms/step - loss: 0.0939 - mae: 0.1747 - val_loss: 0.0730 - val_mae: 0.2088\n",
            "Epoch 70/90\n",
            "64/64 [==============================] - 0s 2ms/step - loss: 0.1082 - mae: 0.2041 - val_loss: 0.0737 - val_mae: 0.2073\n",
            "Epoch 71/90\n",
            "64/64 [==============================] - 0s 2ms/step - loss: 0.1013 - mae: 0.1990 - val_loss: 0.0716 - val_mae: 0.2101\n",
            "Epoch 72/90\n",
            "64/64 [==============================] - 0s 2ms/step - loss: 0.3999 - mae: 0.2604 - val_loss: 0.0791 - val_mae: 0.2183\n",
            "Epoch 73/90\n",
            "64/64 [==============================] - 0s 2ms/step - loss: 0.1011 - mae: 0.1883 - val_loss: 0.0758 - val_mae: 0.2132\n",
            "Epoch 74/90\n",
            "64/64 [==============================] - 0s 2ms/step - loss: 0.6370 - mae: 0.4054 - val_loss: 0.0767 - val_mae: 0.2160\n",
            "Epoch 75/90\n",
            "64/64 [==============================] - 0s 2ms/step - loss: 0.1378 - mae: 0.2563 - val_loss: 0.0727 - val_mae: 0.2098\n",
            "Epoch 76/90\n",
            "64/64 [==============================] - 0s 2ms/step - loss: 0.2484 - mae: 0.3218 - val_loss: 0.0690 - val_mae: 0.2044\n",
            "Epoch 77/90\n",
            "64/64 [==============================] - 0s 2ms/step - loss: 0.1113 - mae: 0.2104 - val_loss: 0.0728 - val_mae: 0.2104\n",
            "Epoch 78/90\n",
            "64/64 [==============================] - 0s 2ms/step - loss: 0.0922 - mae: 0.1866 - val_loss: 0.0692 - val_mae: 0.2059\n",
            "Epoch 79/90\n",
            "64/64 [==============================] - 0s 2ms/step - loss: 0.1129 - mae: 0.2177 - val_loss: 0.0711 - val_mae: 0.2085\n",
            "Epoch 80/90\n",
            "64/64 [==============================] - 0s 2ms/step - loss: 0.2004 - mae: 0.1933 - val_loss: 0.0676 - val_mae: 0.1964\n",
            "Epoch 81/90\n",
            "64/64 [==============================] - 0s 2ms/step - loss: 0.4260 - mae: 0.2332 - val_loss: 0.0674 - val_mae: 0.1978\n",
            "Epoch 82/90\n",
            "64/64 [==============================] - 0s 2ms/step - loss: 0.1642 - mae: 0.2098 - val_loss: 0.0682 - val_mae: 0.2005\n",
            "Epoch 83/90\n",
            "64/64 [==============================] - 0s 2ms/step - loss: 0.1704 - mae: 0.2507 - val_loss: 0.0688 - val_mae: 0.1997\n",
            "Epoch 84/90\n",
            "64/64 [==============================] - 0s 2ms/step - loss: 0.0568 - mae: 0.1584 - val_loss: 0.0727 - val_mae: 0.2056\n",
            "Epoch 85/90\n",
            "64/64 [==============================] - 0s 2ms/step - loss: 0.0752 - mae: 0.1845 - val_loss: 0.0691 - val_mae: 0.1990\n",
            "Epoch 86/90\n",
            "64/64 [==============================] - 0s 2ms/step - loss: 0.1409 - mae: 0.1934 - val_loss: 0.0746 - val_mae: 0.2083\n",
            "Epoch 87/90\n",
            "64/64 [==============================] - 0s 2ms/step - loss: 0.0840 - mae: 0.1695 - val_loss: 0.0648 - val_mae: 0.1935\n",
            "Epoch 88/90\n",
            "64/64 [==============================] - 0s 2ms/step - loss: 0.2490 - mae: 0.2681 - val_loss: 0.0637 - val_mae: 0.1900\n",
            "Epoch 89/90\n",
            "64/64 [==============================] - 0s 2ms/step - loss: 0.1322 - mae: 0.2482 - val_loss: 0.0639 - val_mae: 0.1907\n",
            "Epoch 90/90\n",
            "64/64 [==============================] - 0s 2ms/step - loss: 0.1892 - mae: 0.2786 - val_loss: 0.0715 - val_mae: 0.2017\n"
          ],
          "name": "stdout"
        }
      ]
    },
    {
      "cell_type": "code",
      "metadata": {
        "id": "hzImMFI2PBVD",
        "colab": {
          "base_uri": "https://localhost:8080/",
          "height": 295
        },
        "outputId": "c92a5070-04af-4676-f77c-9b305180333f"
      },
      "source": [
        "# graph \n",
        "loss = history.history['loss']\n",
        "val_loss = history.history['val_loss']\n",
        "epochs = range(1, len(loss) + 1)\n",
        "plt.plot(epochs, loss,\"ro\",label='Training loss')\n",
        "plt.plot(epochs, val_loss, 'b', label='Validation loss')\n",
        "plt.title('Training and validation loss')\n",
        "plt.xlabel('Epochs')\n",
        "plt.ylabel('Loss')\n",
        "plt.legend()\n",
        "plt.grid()\n",
        "plt.show()"
      ],
      "execution_count": 107,
      "outputs": [
        {
          "output_type": "display_data",
          "data": {
            "image/png": "[encoded data removed]",
            "text/plain": [
              "<Figure size 432x288 with 1 Axes>"
            ]
          },
          "metadata": {
            "tags": [],
            "needs_background": "light"
          }
        }
      ]
    },
    {
      "cell_type": "code",
      "metadata": {
        "id": "wgYqTsNt5Fme",
        "colab": {
          "base_uri": "https://localhost:8080/"
        },
        "outputId": "971dfc0c-32bf-465a-e35f-f2fca34cadb4"
      },
      "source": [
        "#evaluation\n",
        "mynet.evaluate(x_test,y_test)"
      ],
      "execution_count": 108,
      "outputs": [
        {
          "output_type": "stream",
          "text": [
            "2/2 [==============================] - 0s 5ms/step - loss: 0.1900 - mae: 0.3094\n"
          ],
          "name": "stdout"
        },
        {
          "output_type": "execute_result",
          "data": {
            "text/plain": [
              "[0.1900094449520111, 0.3093529939651489]"
            ]
          },
          "metadata": {
            "tags": []
          },
          "execution_count": 108
        }
      ]
    },
    {
      "cell_type": "code",
      "metadata": {
        "id": "GDSGr6yI8UVr",
        "colab": {
          "base_uri": "https://localhost:8080/"
        },
        "outputId": "d56b6f63-7e87-44da-b1c5-c55eda41a8e6"
      },
      "source": [
        "#predictions \n",
        "result=mynet.predict(x_test)\n",
        "result[4]"
      ],
      "execution_count": 110,
      "outputs": [
        {
          "output_type": "execute_result",
          "data": {
            "text/plain": [
              "array([0.9691931], dtype=float32)"
            ]
          },
          "metadata": {
            "tags": []
          },
          "execution_count": 110
        }
      ]
    },
    {
      "cell_type": "code",
      "metadata": {
        "id": "XQBU2Sez8WWR",
        "colab": {
          "base_uri": "https://localhost:8080/",
          "height": 295
        },
        "outputId": "3bf29537-7647-4c5b-8839-9546c4ba95cc"
      },
      "source": [
        "#graph of actual values and predicted values\n",
        "y=result\n",
        "y1=range(62)\n",
        "x=y_test\n",
        "plt.scatter(x, y1, label= \"Actual price\", color= \"red\", marker= \"*\", s=100)\n",
        "plt.scatter(y, y1, label= \"Predicted Price\", color= \"blue\", marker= \"+\", s=100)\n",
        "plt.xlabel('Price')\n",
        "plt.ylabel('Rows')\n",
        "plt.title('Actual price vs predicted price!')\n",
        "plt.legend()\n",
        "plt.grid()\n",
        "plt.show()"
      ],
      "execution_count": 111,
      "outputs": [
        {
          "output_type": "display_data",
          "data": {
            "image/png": "[encoded data removed]",
            "text/plain": [
              "<Figure size 432x288 with 1 Axes>"
            ]
          },
          "metadata": {
            "tags": [],
            "needs_background": "light"
          }
        }
      ]
    },
    {
      "cell_type": "code",
      "metadata": {
        "id": "Y4-Xbp5F13jO"
      },
      "source": [
        ""
      ],
      "execution_count": null,
      "outputs": []
    }
  ]
}