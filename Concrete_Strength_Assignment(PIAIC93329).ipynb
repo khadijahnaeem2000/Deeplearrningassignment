{
  "nbformat": 4,
  "nbformat_minor": 0,
  "metadata": {
    "kernelspec": {
      "display_name": "Python 3",
      "language": "python",
      "name": "python3"
    },
    "language_info": {
      "codemirror_mode": {
        "name": "ipython",
        "version": 3
      },
      "file_extension": ".py",
      "mimetype": "text/x-python",
      "name": "python",
      "nbconvert_exporter": "python",
      "pygments_lexer": "ipython3",
      "version": "3.7.6"
    },
    "colab": {
      "name": "Concrete_Strength_Assignment(PIAIC93329).ipynb",
      "provenance": []
    }
  },
  "cells": [
    {
      "cell_type": "markdown",
      "metadata": {
        "id": "view-in-github"
      },
      "source": [
        "<a href=\"https://colab.research.google.com/github/sadaqatali1234/Deep-learning-assigments/blob/main/Concrete_Strength_Assignment.ipynb\" target=\"_parent\"><img src=\"https://colab.research.google.com/assets/colab-badge.svg\" alt=\"Open In Colab\"/></a>"
      ]
    },
    {
      "cell_type": "markdown",
      "metadata": {
        "id": "nnlyIQflOZJG"
      },
      "source": [
        "# Assignment: Compresive Strength Concrete Problem\n",
        "\n",
        "\n",
        "### Abstract: \n",
        "\n",
        "Concrete is the most important material in civil engineering. The concrete compressive strength (concrete strength to bear the load) is a highly nonlinear function of age and ingredients.  <br><br>\n",
        "\n",
        "<table border=\"1\"  cellpadding=\"6\" bordercolor=\"red\">\n",
        "\t<tbody>\n",
        "        <tr>\n",
        "\t\t<td bgcolor=\"#DDEEFF\"><p class=\"normal\"><b>Data Set Characteristics:&nbsp;&nbsp;</b></p></td>\n",
        "\t\t<td><p class=\"normal\">Multivariate</p></td>\n",
        "\t\t<td bgcolor=\"#DDEEFF\"><p class=\"normal\"><b>Number of Instances:</b></p></td>\n",
        "\t\t<td><p class=\"normal\">1030</p></td>\n",
        "\t\t<td bgcolor=\"#DDEEFF\"><p class=\"normal\"><b>Area:</b></p></td>\n",
        "\t\t<td><p class=\"normal\">Physical</p></td>\n",
        "        </tr>\n",
        "     </tbody>\n",
        "    </table>\n",
        "<table border=\"1\" cellpadding=\"6\">\n",
        "    <tbody>\n",
        "        <tr>\n",
        "            <td bgcolor=\"#DDEEFF\"><p class=\"normal\"><b>Attribute Characteristics:</b></p></td>\n",
        "            <td><p class=\"normal\">Real</p></td>\n",
        "            <td bgcolor=\"#DDEEFF\"><p class=\"normal\"><b>Number of Attributes:</b></p></td>\n",
        "            <td><p class=\"normal\">9</p></td>\n",
        "            <td bgcolor=\"#DDEEFF\"><p class=\"normal\"><b>Date Donated</b></p></td>\n",
        "            <td><p class=\"normal\">2007-08-03</p></td>\n",
        "        </tr>\n",
        "     </tbody>\n",
        "    </table>\n",
        "<table border=\"1\" cellpadding=\"6\">\t\n",
        "    <tbody>\n",
        "    <tr>\n",
        "\t\t<td bgcolor=\"#DDEEFF\"><p class=\"normal\"><b>Associated Tasks:</b></p></td>\n",
        "\t\t<td><p class=\"normal\">Regression</p></td>\n",
        "\t\t<td bgcolor=\"#DDEEFF\"><p class=\"normal\"><b>Missing Values?</b></p></td>\n",
        "\t\t<td><p class=\"normal\">N/A</p></td>\n",
        "\t\t<td bgcolor=\"#DDEEFF\"><p class=\"normal\"><b>Number of Web Hits:</b></p></td>\n",
        "\t\t<td><p class=\"normal\">231464</p></td>\n",
        "\t</tr>\n",
        "    </tbody>\n",
        "    </table>"
      ]
    },
    {
      "cell_type": "markdown",
      "metadata": {
        "id": "wDVdvMBAOZJL"
      },
      "source": [
        "###  Description:\n",
        "| Features Name | Data Type | Measurement | Description |\n",
        "| -- | -- | -- | -- |\n",
        "Cement (component 1) | quantitative | kg in a m3 mixture | Input Variable\n",
        "Blast Furnace Slag (component 2) | quantitative | kg in a m3 mixture | Input Variable\n",
        "Fly Ash (component 3) | quantitative | kg in a m3 mixture | Input Variable\n",
        "Water (component 4) | quantitative | kg in a m3 mixture | Input Variable\n",
        "Superplasticizer (component 5) | quantitative | kg in a m3 mixture | Input Variable\n",
        "Coarse Aggregate (component 6) | quantitative | kg in a m3 mixture | Input Variable\n",
        "Fine Aggregate (component 7) | quantitative | kg in a m3 mixture | Input Variable\n",
        "Age | quantitative | Day (1~365) | Input Variable\n",
        "Concrete compressive strength | quantitative | MPa | Output Variable\n",
        "\n",
        "### WORKFLOW :\n",
        "- Load Data\n",
        "- Check Missing Values ( If Exist ; Fill each record with mean of its feature )\n",
        "- Standardized the Input Variables. **Hint**: Centeralized the data\n",
        "- Split into 50% Training(Samples,Labels) , 30% Test(Samples,Labels) and 20% Validation Data(Samples,Labels).\n",
        "- Model : input Layer (No. of features ), 3 hidden layers including 10,8,6 unit & Output Layer with activation function relu/tanh (check by experiment).\n",
        "- Compilation Step (Note : Its a Regression problem , select loss , metrics according to it)\n",
        "- Train the Model with Epochs (100) and validate it\n",
        "- If the model gets overfit tune your model by changing the units , No. of layers , activation function , epochs , add dropout layer or add Regularizer according to the need .\n",
        "- Evaluation Step\n",
        "- Prediction\n"
      ]
    },
    {
      "cell_type": "markdown",
      "metadata": {
        "id": "8_lYngD2OZJN"
      },
      "source": [
        "# Load Data:\n",
        "[Click Here to Download DataSet](https://github.com/ramsha275/ML_Datasets/blob/main/compresive_strength_concrete.csv)"
      ]
    },
    {
      "cell_type": "code",
      "metadata": {
        "id": "FgrSF5j_OZJO"
      },
      "source": [
        "# importing libarires\n",
        "import tensorflow as tf\n",
        "import numpy as np\n",
        "import pandas as pd\n",
        "from tensorflow.keras import models, layers , optimizers"
      ],
      "execution_count": 1,
      "outputs": []
    },
    {
      "cell_type": "code",
      "metadata": {
        "id": "H43i_gBFPe02"
      },
      "source": [
        "# loading data \n",
        "df= pd.read_csv(\"/content/compresive_strength_concrete.csv\")"
      ],
      "execution_count": 2,
      "outputs": []
    },
    {
      "cell_type": "code",
      "metadata": {
        "colab": {
          "base_uri": "https://localhost:8080/",
          "height": 240
        },
        "id": "oH6RIxSbQy3d",
        "outputId": "0cad06c1-c077-4270-8fd6-ddb9d810623e"
      },
      "source": [
        "# check first five rows\n",
        "df.head()"
      ],
      "execution_count": 3,
      "outputs": [
        {
          "output_type": "execute_result",
          "data": {
            "text/html": [
              "<div>\n",
              "<style scoped>\n",
              "    .dataframe tbody tr th:only-of-type {\n",
              "        vertical-align: middle;\n",
              "    }\n",
              "\n",
              "    .dataframe tbody tr th {\n",
              "        vertical-align: top;\n",
              "    }\n",
              "\n",
              "    .dataframe thead th {\n",
              "        text-align: right;\n",
              "    }\n",
              "</style>\n",
              "<table border=\"1\" class=\"dataframe\">\n",
              "  <thead>\n",
              "    <tr style=\"text-align: right;\">\n",
              "      <th></th>\n",
              "      <th>Cement (component 1)(kg in a m^3 mixture)</th>\n",
              "      <th>Blast Furnace Slag (component 2)(kg in a m^3 mixture)</th>\n",
              "      <th>Fly Ash (component 3)(kg in a m^3 mixture)</th>\n",
              "      <th>Water  (component 4)(kg in a m^3 mixture)</th>\n",
              "      <th>Superplasticizer (component 5)(kg in a m^3 mixture)</th>\n",
              "      <th>Coarse Aggregate  (component 6)(kg in a m^3 mixture)</th>\n",
              "      <th>Fine Aggregate (component 7)(kg in a m^3 mixture)</th>\n",
              "      <th>Age (day)</th>\n",
              "      <th>Concrete compressive strength(MPa, megapascals)</th>\n",
              "    </tr>\n",
              "  </thead>\n",
              "  <tbody>\n",
              "    <tr>\n",
              "      <th>0</th>\n",
              "      <td>540.0</td>\n",
              "      <td>0.0</td>\n",
              "      <td>0.0</td>\n",
              "      <td>162.0</td>\n",
              "      <td>2.5</td>\n",
              "      <td>1040.0</td>\n",
              "      <td>676.0</td>\n",
              "      <td>28</td>\n",
              "      <td>79.99</td>\n",
              "    </tr>\n",
              "    <tr>\n",
              "      <th>1</th>\n",
              "      <td>540.0</td>\n",
              "      <td>0.0</td>\n",
              "      <td>0.0</td>\n",
              "      <td>162.0</td>\n",
              "      <td>2.5</td>\n",
              "      <td>1055.0</td>\n",
              "      <td>676.0</td>\n",
              "      <td>28</td>\n",
              "      <td>61.89</td>\n",
              "    </tr>\n",
              "    <tr>\n",
              "      <th>2</th>\n",
              "      <td>332.5</td>\n",
              "      <td>142.5</td>\n",
              "      <td>0.0</td>\n",
              "      <td>228.0</td>\n",
              "      <td>0.0</td>\n",
              "      <td>932.0</td>\n",
              "      <td>594.0</td>\n",
              "      <td>270</td>\n",
              "      <td>40.27</td>\n",
              "    </tr>\n",
              "    <tr>\n",
              "      <th>3</th>\n",
              "      <td>332.5</td>\n",
              "      <td>142.5</td>\n",
              "      <td>0.0</td>\n",
              "      <td>228.0</td>\n",
              "      <td>0.0</td>\n",
              "      <td>932.0</td>\n",
              "      <td>594.0</td>\n",
              "      <td>365</td>\n",
              "      <td>41.05</td>\n",
              "    </tr>\n",
              "    <tr>\n",
              "      <th>4</th>\n",
              "      <td>198.6</td>\n",
              "      <td>132.4</td>\n",
              "      <td>0.0</td>\n",
              "      <td>192.0</td>\n",
              "      <td>0.0</td>\n",
              "      <td>978.4</td>\n",
              "      <td>825.5</td>\n",
              "      <td>360</td>\n",
              "      <td>44.30</td>\n",
              "    </tr>\n",
              "  </tbody>\n",
              "</table>\n",
              "</div>"
            ],
            "text/plain": [
              "   Cement (component 1)(kg in a m^3 mixture)  ...  Concrete compressive strength(MPa, megapascals) \n",
              "0                                      540.0  ...                                             79.99\n",
              "1                                      540.0  ...                                             61.89\n",
              "2                                      332.5  ...                                             40.27\n",
              "3                                      332.5  ...                                             41.05\n",
              "4                                      198.6  ...                                             44.30\n",
              "\n",
              "[5 rows x 9 columns]"
            ]
          },
          "metadata": {
            "tags": []
          },
          "execution_count": 3
        }
      ]
    },
    {
      "cell_type": "code",
      "metadata": {
        "colab": {
          "base_uri": "https://localhost:8080/"
        },
        "id": "q8S-QLsBR4Bd",
        "outputId": "387cf5b2-9cde-4033-99e7-5c9db2320ac4"
      },
      "source": [
        "# check null values in dataframe\n",
        "df.isnull().sum()"
      ],
      "execution_count": 4,
      "outputs": [
        {
          "output_type": "execute_result",
          "data": {
            "text/plain": [
              "Cement (component 1)(kg in a m^3 mixture)                0\n",
              "Blast Furnace Slag (component 2)(kg in a m^3 mixture)    0\n",
              "Fly Ash (component 3)(kg in a m^3 mixture)               0\n",
              "Water  (component 4)(kg in a m^3 mixture)                0\n",
              "Superplasticizer (component 5)(kg in a m^3 mixture)      0\n",
              "Coarse Aggregate  (component 6)(kg in a m^3 mixture)     0\n",
              "Fine Aggregate (component 7)(kg in a m^3 mixture)        0\n",
              "Age (day)                                                0\n",
              "Concrete compressive strength(MPa, megapascals)          0\n",
              "dtype: int64"
            ]
          },
          "metadata": {
            "tags": []
          },
          "execution_count": 4
        }
      ]
    },
    {
      "cell_type": "code",
      "metadata": {
        "colab": {
          "base_uri": "https://localhost:8080/",
          "height": 326
        },
        "id": "NAoNRjCbSKxZ",
        "outputId": "8f387863-d605-4bee-89bc-96c96777c367"
      },
      "source": [
        "#statistical description of dataframe\n",
        "df.describe()"
      ],
      "execution_count": 5,
      "outputs": [
        {
          "output_type": "execute_result",
          "data": {
            "text/html": [
              "<div>\n",
              "<style scoped>\n",
              "    .dataframe tbody tr th:only-of-type {\n",
              "        vertical-align: middle;\n",
              "    }\n",
              "\n",
              "    .dataframe tbody tr th {\n",
              "        vertical-align: top;\n",
              "    }\n",
              "\n",
              "    .dataframe thead th {\n",
              "        text-align: right;\n",
              "    }\n",
              "</style>\n",
              "<table border=\"1\" class=\"dataframe\">\n",
              "  <thead>\n",
              "    <tr style=\"text-align: right;\">\n",
              "      <th></th>\n",
              "      <th>Cement (component 1)(kg in a m^3 mixture)</th>\n",
              "      <th>Blast Furnace Slag (component 2)(kg in a m^3 mixture)</th>\n",
              "      <th>Fly Ash (component 3)(kg in a m^3 mixture)</th>\n",
              "      <th>Water  (component 4)(kg in a m^3 mixture)</th>\n",
              "      <th>Superplasticizer (component 5)(kg in a m^3 mixture)</th>\n",
              "      <th>Coarse Aggregate  (component 6)(kg in a m^3 mixture)</th>\n",
              "      <th>Fine Aggregate (component 7)(kg in a m^3 mixture)</th>\n",
              "      <th>Age (day)</th>\n",
              "      <th>Concrete compressive strength(MPa, megapascals)</th>\n",
              "    </tr>\n",
              "  </thead>\n",
              "  <tbody>\n",
              "    <tr>\n",
              "      <th>count</th>\n",
              "      <td>1030.000000</td>\n",
              "      <td>1030.000000</td>\n",
              "      <td>1030.000000</td>\n",
              "      <td>1030.000000</td>\n",
              "      <td>1030.000000</td>\n",
              "      <td>1030.000000</td>\n",
              "      <td>1030.000000</td>\n",
              "      <td>1030.000000</td>\n",
              "      <td>1030.000000</td>\n",
              "    </tr>\n",
              "    <tr>\n",
              "      <th>mean</th>\n",
              "      <td>281.167864</td>\n",
              "      <td>73.895825</td>\n",
              "      <td>54.188350</td>\n",
              "      <td>181.567282</td>\n",
              "      <td>6.204660</td>\n",
              "      <td>972.918932</td>\n",
              "      <td>773.580485</td>\n",
              "      <td>45.662136</td>\n",
              "      <td>35.817961</td>\n",
              "    </tr>\n",
              "    <tr>\n",
              "      <th>std</th>\n",
              "      <td>104.506364</td>\n",
              "      <td>86.279342</td>\n",
              "      <td>63.997004</td>\n",
              "      <td>21.354219</td>\n",
              "      <td>5.973841</td>\n",
              "      <td>77.753954</td>\n",
              "      <td>80.175980</td>\n",
              "      <td>63.169912</td>\n",
              "      <td>16.705742</td>\n",
              "    </tr>\n",
              "    <tr>\n",
              "      <th>min</th>\n",
              "      <td>102.000000</td>\n",
              "      <td>0.000000</td>\n",
              "      <td>0.000000</td>\n",
              "      <td>121.800000</td>\n",
              "      <td>0.000000</td>\n",
              "      <td>801.000000</td>\n",
              "      <td>594.000000</td>\n",
              "      <td>1.000000</td>\n",
              "      <td>2.330000</td>\n",
              "    </tr>\n",
              "    <tr>\n",
              "      <th>25%</th>\n",
              "      <td>192.375000</td>\n",
              "      <td>0.000000</td>\n",
              "      <td>0.000000</td>\n",
              "      <td>164.900000</td>\n",
              "      <td>0.000000</td>\n",
              "      <td>932.000000</td>\n",
              "      <td>730.950000</td>\n",
              "      <td>7.000000</td>\n",
              "      <td>23.710000</td>\n",
              "    </tr>\n",
              "    <tr>\n",
              "      <th>50%</th>\n",
              "      <td>272.900000</td>\n",
              "      <td>22.000000</td>\n",
              "      <td>0.000000</td>\n",
              "      <td>185.000000</td>\n",
              "      <td>6.400000</td>\n",
              "      <td>968.000000</td>\n",
              "      <td>779.500000</td>\n",
              "      <td>28.000000</td>\n",
              "      <td>34.445000</td>\n",
              "    </tr>\n",
              "    <tr>\n",
              "      <th>75%</th>\n",
              "      <td>350.000000</td>\n",
              "      <td>142.950000</td>\n",
              "      <td>118.300000</td>\n",
              "      <td>192.000000</td>\n",
              "      <td>10.200000</td>\n",
              "      <td>1029.400000</td>\n",
              "      <td>824.000000</td>\n",
              "      <td>56.000000</td>\n",
              "      <td>46.135000</td>\n",
              "    </tr>\n",
              "    <tr>\n",
              "      <th>max</th>\n",
              "      <td>540.000000</td>\n",
              "      <td>359.400000</td>\n",
              "      <td>200.100000</td>\n",
              "      <td>247.000000</td>\n",
              "      <td>32.200000</td>\n",
              "      <td>1145.000000</td>\n",
              "      <td>992.600000</td>\n",
              "      <td>365.000000</td>\n",
              "      <td>82.600000</td>\n",
              "    </tr>\n",
              "  </tbody>\n",
              "</table>\n",
              "</div>"
            ],
            "text/plain": [
              "       Cement (component 1)(kg in a m^3 mixture)  ...  Concrete compressive strength(MPa, megapascals) \n",
              "count                                1030.000000  ...                                       1030.000000\n",
              "mean                                  281.167864  ...                                         35.817961\n",
              "std                                   104.506364  ...                                         16.705742\n",
              "min                                   102.000000  ...                                          2.330000\n",
              "25%                                   192.375000  ...                                         23.710000\n",
              "50%                                   272.900000  ...                                         34.445000\n",
              "75%                                   350.000000  ...                                         46.135000\n",
              "max                                   540.000000  ...                                         82.600000\n",
              "\n",
              "[8 rows x 9 columns]"
            ]
          },
          "metadata": {
            "tags": []
          },
          "execution_count": 5
        }
      ]
    },
    {
      "cell_type": "code",
      "metadata": {
        "colab": {
          "base_uri": "https://localhost:8080/"
        },
        "id": "NHZ4H5GPSUz8",
        "outputId": "a103afb9-d954-4440-95b0-7ab8a0ab37b8"
      },
      "source": [
        "\n",
        "df.info()"
      ],
      "execution_count": 6,
      "outputs": [
        {
          "output_type": "stream",
          "text": [
            "<class 'pandas.core.frame.DataFrame'>\n",
            "RangeIndex: 1030 entries, 0 to 1029\n",
            "Data columns (total 9 columns):\n",
            " #   Column                                                 Non-Null Count  Dtype  \n",
            "---  ------                                                 --------------  -----  \n",
            " 0   Cement (component 1)(kg in a m^3 mixture)              1030 non-null   float64\n",
            " 1   Blast Furnace Slag (component 2)(kg in a m^3 mixture)  1030 non-null   float64\n",
            " 2   Fly Ash (component 3)(kg in a m^3 mixture)             1030 non-null   float64\n",
            " 3   Water  (component 4)(kg in a m^3 mixture)              1030 non-null   float64\n",
            " 4   Superplasticizer (component 5)(kg in a m^3 mixture)    1030 non-null   float64\n",
            " 5   Coarse Aggregate  (component 6)(kg in a m^3 mixture)   1030 non-null   float64\n",
            " 6   Fine Aggregate (component 7)(kg in a m^3 mixture)      1030 non-null   float64\n",
            " 7   Age (day)                                              1030 non-null   int64  \n",
            " 8   Concrete compressive strength(MPa, megapascals)        1030 non-null   float64\n",
            "dtypes: float64(8), int64(1)\n",
            "memory usage: 72.5 KB\n"
          ],
          "name": "stdout"
        }
      ]
    },
    {
      "cell_type": "code",
      "metadata": {
        "id": "0pI6EOmVSYA9"
      },
      "source": [
        "#split\n",
        "data=df.iloc[:,:8]\n",
        "labels=df.iloc[:,-1]"
      ],
      "execution_count": 7,
      "outputs": []
    },
    {
      "cell_type": "code",
      "metadata": {
        "id": "mel2k2Nwf0LI"
      },
      "source": [
        "#standerized\n",
        "mean = data.mean(axis=0)\n",
        "data-= mean\n",
        "std = data.std(axis=0)\n",
        "data/= std"
      ],
      "execution_count": 8,
      "outputs": []
    },
    {
      "cell_type": "code",
      "metadata": {
        "id": "l-IZEthjV2pC"
      },
      "source": [
        "#standardized \n",
        "labels_mean = labels.mean(axis=0)\n",
        "labels-= labels_mean\n",
        "labels_std = labels.std(axis=0)\n",
        "labels/= labels_std\n"
      ],
      "execution_count": 9,
      "outputs": []
    },
    {
      "cell_type": "code",
      "metadata": {
        "id": "e6Q4b8UpXI8a"
      },
      "source": [
        "\n",
        "x_train=data.sample(frac=0.7,random_state=1)\n",
        "x_test=data.sample(frac=0.3,random_state=1)\n",
        "y_train=labels.sample(frac=0.7,random_state=1)\n",
        "y_test=labels.sample(frac=0.3,random_state=1)"
      ],
      "execution_count": 24,
      "outputs": []
    },
    {
      "cell_type": "code",
      "metadata": {
        "id": "pJ4OdxP9g5Wa"
      },
      "source": [
        "# convert dataframe into numpy array\n",
        "x_train= np.asarray(x_train).astype('float32')\n",
        "x_test= np.asarray(x_test).astype('float32')\n",
        "\n"
      ],
      "execution_count": 25,
      "outputs": []
    },
    {
      "cell_type": "code",
      "metadata": {
        "id": "uTKLaC-_jgZC"
      },
      "source": [
        "#validation data\n",
        "val_x = x_train[:230]\n",
        "partial_x_train=x_train[230:]\n",
        "val_y=y_train[:230]\n",
        "partial_y_train=y_train[230:]\n"
      ],
      "execution_count": 26,
      "outputs": []
    },
    {
      "cell_type": "code",
      "metadata": {
        "id": "yI9PhkMyhH9Q"
      },
      "source": [
        "\n",
        "from keras import models, layers , optimizers"
      ],
      "execution_count": null,
      "outputs": []
    },
    {
      "cell_type": "code",
      "metadata": {
        "id": "FBHIpQiNhLsk"
      },
      "source": [
        "# model \n",
        "model=models.Sequential()\n",
        "model.add(tf.keras.layers.Dense(10,activation=\"relu\",input_shape=(x_train.shape[1],)))\n",
        "model.add(tf.keras.layers.Dense(8,activation=\"relu\"))\n",
        "model.add(tf.keras.layers.Dropout(0.2))\n",
        "model.add(tf.keras.layers.Dense(6,activation=\"relu\"))\n",
        "model.add(tf.keras.layers.Dropout(0.5))\n",
        "model.add(tf.keras.layers.Dense(1))\n",
        "\n"
      ],
      "execution_count": 33,
      "outputs": []
    },
    {
      "cell_type": "code",
      "metadata": {
        "id": "DojP0-ZZipQE"
      },
      "source": [
        "\n",
        "model.compile(optimizer=\"rmsprop\", loss=\"mse\",metrics=['mae'])"
      ],
      "execution_count": 34,
      "outputs": []
    },
    {
      "cell_type": "code",
      "metadata": {
        "colab": {
          "base_uri": "https://localhost:8080/"
        },
        "id": "KE-wc1irh7dL",
        "outputId": "e143f75c-256f-4a46-f737-e9adcce386cd"
      },
      "source": [
        "\n",
        "model.fit(partial_x_train,partial_y_train,epochs=100,validation_data=(val_x,val_y),batch_size=1)"
      ],
      "execution_count": 35,
      "outputs": [
        {
          "output_type": "stream",
          "text": [
            "Epoch 1/100\n",
            "491/491 [==============================] - 1s 2ms/step - loss: 1.3476 - mae: 0.9134 - val_loss: 0.9019 - val_mae: 0.7402\n",
            "Epoch 2/100\n",
            "491/491 [==============================] - 1s 2ms/step - loss: 1.0087 - mae: 0.8110 - val_loss: 0.8485 - val_mae: 0.7161\n",
            "Epoch 3/100\n",
            "491/491 [==============================] - 1s 2ms/step - loss: 0.9246 - mae: 0.7631 - val_loss: 0.7498 - val_mae: 0.6723\n",
            "Epoch 4/100\n",
            "491/491 [==============================] - 1s 2ms/step - loss: 0.9681 - mae: 0.7903 - val_loss: 0.7068 - val_mae: 0.6507\n",
            "Epoch 5/100\n",
            "491/491 [==============================] - 1s 2ms/step - loss: 0.8397 - mae: 0.7335 - val_loss: 0.6425 - val_mae: 0.6190\n",
            "Epoch 6/100\n",
            "491/491 [==============================] - 1s 2ms/step - loss: 0.7077 - mae: 0.6597 - val_loss: 0.5645 - val_mae: 0.5836\n",
            "Epoch 7/100\n",
            "491/491 [==============================] - 1s 2ms/step - loss: 0.6725 - mae: 0.6495 - val_loss: 0.5335 - val_mae: 0.5709\n",
            "Epoch 8/100\n",
            "491/491 [==============================] - 1s 2ms/step - loss: 0.7571 - mae: 0.6759 - val_loss: 0.4921 - val_mae: 0.5457\n",
            "Epoch 9/100\n",
            "491/491 [==============================] - 1s 2ms/step - loss: 0.6608 - mae: 0.6221 - val_loss: 0.4783 - val_mae: 0.5352\n",
            "Epoch 10/100\n",
            "491/491 [==============================] - 1s 2ms/step - loss: 0.7606 - mae: 0.6958 - val_loss: 0.4636 - val_mae: 0.5320\n",
            "Epoch 11/100\n",
            "491/491 [==============================] - 1s 2ms/step - loss: 0.7016 - mae: 0.6553 - val_loss: 0.4302 - val_mae: 0.5060\n",
            "Epoch 12/100\n",
            "491/491 [==============================] - 1s 2ms/step - loss: 0.5515 - mae: 0.5737 - val_loss: 0.4395 - val_mae: 0.5275\n",
            "Epoch 13/100\n",
            "491/491 [==============================] - 1s 2ms/step - loss: 0.6856 - mae: 0.6480 - val_loss: 0.4248 - val_mae: 0.5162\n",
            "Epoch 14/100\n",
            "491/491 [==============================] - 1s 2ms/step - loss: 0.6217 - mae: 0.6079 - val_loss: 0.4124 - val_mae: 0.4991\n",
            "Epoch 15/100\n",
            "491/491 [==============================] - 1s 2ms/step - loss: 0.6227 - mae: 0.6084 - val_loss: 0.4375 - val_mae: 0.5224\n",
            "Epoch 16/100\n",
            "491/491 [==============================] - 1s 2ms/step - loss: 0.5991 - mae: 0.6003 - val_loss: 0.4288 - val_mae: 0.5127\n",
            "Epoch 17/100\n",
            "491/491 [==============================] - 1s 2ms/step - loss: 0.6212 - mae: 0.6189 - val_loss: 0.4100 - val_mae: 0.5025\n",
            "Epoch 18/100\n",
            "491/491 [==============================] - 1s 2ms/step - loss: 0.5577 - mae: 0.5776 - val_loss: 0.4025 - val_mae: 0.4909\n",
            "Epoch 19/100\n",
            "491/491 [==============================] - 1s 2ms/step - loss: 0.5231 - mae: 0.5603 - val_loss: 0.4051 - val_mae: 0.5076\n",
            "Epoch 20/100\n",
            "491/491 [==============================] - 1s 2ms/step - loss: 0.5513 - mae: 0.5810 - val_loss: 0.3851 - val_mae: 0.4858\n",
            "Epoch 21/100\n",
            "491/491 [==============================] - 1s 2ms/step - loss: 0.5897 - mae: 0.5954 - val_loss: 0.4108 - val_mae: 0.5013\n",
            "Epoch 22/100\n",
            "491/491 [==============================] - 1s 2ms/step - loss: 0.6066 - mae: 0.6058 - val_loss: 0.4000 - val_mae: 0.4986\n",
            "Epoch 23/100\n",
            "491/491 [==============================] - 1s 2ms/step - loss: 0.5792 - mae: 0.5891 - val_loss: 0.3944 - val_mae: 0.4924\n",
            "Epoch 24/100\n",
            "491/491 [==============================] - 1s 2ms/step - loss: 0.6086 - mae: 0.5860 - val_loss: 0.4173 - val_mae: 0.5108\n",
            "Epoch 25/100\n",
            "491/491 [==============================] - 1s 2ms/step - loss: 0.5747 - mae: 0.5801 - val_loss: 0.3992 - val_mae: 0.4840\n",
            "Epoch 26/100\n",
            "491/491 [==============================] - 1s 2ms/step - loss: 0.5422 - mae: 0.5809 - val_loss: 0.4497 - val_mae: 0.5368\n",
            "Epoch 27/100\n",
            "491/491 [==============================] - 1s 2ms/step - loss: 0.6598 - mae: 0.6340 - val_loss: 0.4078 - val_mae: 0.5077\n",
            "Epoch 28/100\n",
            "491/491 [==============================] - 1s 2ms/step - loss: 0.5899 - mae: 0.5918 - val_loss: 0.4157 - val_mae: 0.5126\n",
            "Epoch 29/100\n",
            "491/491 [==============================] - 1s 2ms/step - loss: 0.5152 - mae: 0.5517 - val_loss: 0.3897 - val_mae: 0.5012\n",
            "Epoch 30/100\n",
            "491/491 [==============================] - 1s 2ms/step - loss: 0.5235 - mae: 0.5544 - val_loss: 0.3791 - val_mae: 0.4896\n",
            "Epoch 31/100\n",
            "491/491 [==============================] - 1s 2ms/step - loss: 0.5842 - mae: 0.5859 - val_loss: 0.3954 - val_mae: 0.4988\n",
            "Epoch 32/100\n",
            "491/491 [==============================] - 1s 2ms/step - loss: 0.5839 - mae: 0.5808 - val_loss: 0.3995 - val_mae: 0.5031\n",
            "Epoch 33/100\n",
            "491/491 [==============================] - 1s 2ms/step - loss: 0.5986 - mae: 0.6170 - val_loss: 0.3907 - val_mae: 0.4961\n",
            "Epoch 34/100\n",
            "491/491 [==============================] - 1s 2ms/step - loss: 0.5429 - mae: 0.5705 - val_loss: 0.4076 - val_mae: 0.5137\n",
            "Epoch 35/100\n",
            "491/491 [==============================] - 1s 2ms/step - loss: 0.5248 - mae: 0.5546 - val_loss: 0.3952 - val_mae: 0.5030\n",
            "Epoch 36/100\n",
            "491/491 [==============================] - 1s 2ms/step - loss: 0.5439 - mae: 0.5689 - val_loss: 0.3891 - val_mae: 0.4947\n",
            "Epoch 37/100\n",
            "491/491 [==============================] - 1s 2ms/step - loss: 0.5483 - mae: 0.5673 - val_loss: 0.4103 - val_mae: 0.5173\n",
            "Epoch 38/100\n",
            "491/491 [==============================] - 1s 2ms/step - loss: 0.5509 - mae: 0.5696 - val_loss: 0.3821 - val_mae: 0.4925\n",
            "Epoch 39/100\n",
            "491/491 [==============================] - 1s 2ms/step - loss: 0.4814 - mae: 0.5254 - val_loss: 0.3855 - val_mae: 0.4977\n",
            "Epoch 40/100\n",
            "491/491 [==============================] - 1s 2ms/step - loss: 0.4971 - mae: 0.5404 - val_loss: 0.3754 - val_mae: 0.4817\n",
            "Epoch 41/100\n",
            "491/491 [==============================] - 1s 2ms/step - loss: 0.5349 - mae: 0.5617 - val_loss: 0.3623 - val_mae: 0.4773\n",
            "Epoch 42/100\n",
            "491/491 [==============================] - 1s 2ms/step - loss: 0.4814 - mae: 0.5240 - val_loss: 0.3994 - val_mae: 0.5069\n",
            "Epoch 43/100\n",
            "491/491 [==============================] - 1s 2ms/step - loss: 0.5195 - mae: 0.5347 - val_loss: 0.3686 - val_mae: 0.4815\n",
            "Epoch 44/100\n",
            "491/491 [==============================] - 1s 1ms/step - loss: 0.5288 - mae: 0.5452 - val_loss: 0.3731 - val_mae: 0.4894\n",
            "Epoch 45/100\n",
            "491/491 [==============================] - 1s 2ms/step - loss: 0.5410 - mae: 0.5635 - val_loss: 0.3954 - val_mae: 0.5051\n",
            "Epoch 46/100\n",
            "491/491 [==============================] - 1s 2ms/step - loss: 0.5446 - mae: 0.5754 - val_loss: 0.3919 - val_mae: 0.5004\n",
            "Epoch 47/100\n",
            "491/491 [==============================] - 1s 2ms/step - loss: 0.5497 - mae: 0.5559 - val_loss: 0.4362 - val_mae: 0.5330\n",
            "Epoch 48/100\n",
            "491/491 [==============================] - 1s 2ms/step - loss: 0.6442 - mae: 0.6032 - val_loss: 0.3947 - val_mae: 0.5056\n",
            "Epoch 49/100\n",
            "491/491 [==============================] - 1s 2ms/step - loss: 0.4528 - mae: 0.5047 - val_loss: 0.3586 - val_mae: 0.4688\n",
            "Epoch 50/100\n",
            "491/491 [==============================] - 1s 2ms/step - loss: 0.5871 - mae: 0.5873 - val_loss: 0.3811 - val_mae: 0.4943\n",
            "Epoch 51/100\n",
            "491/491 [==============================] - 1s 2ms/step - loss: 0.5802 - mae: 0.5951 - val_loss: 0.3641 - val_mae: 0.4839\n",
            "Epoch 52/100\n",
            "491/491 [==============================] - 1s 2ms/step - loss: 0.4893 - mae: 0.5365 - val_loss: 0.3697 - val_mae: 0.4863\n",
            "Epoch 53/100\n",
            "491/491 [==============================] - 1s 2ms/step - loss: 0.5902 - mae: 0.5952 - val_loss: 0.3495 - val_mae: 0.4710\n",
            "Epoch 54/100\n",
            "491/491 [==============================] - 1s 2ms/step - loss: 0.4990 - mae: 0.5392 - val_loss: 0.3698 - val_mae: 0.4851\n",
            "Epoch 55/100\n",
            "491/491 [==============================] - 1s 2ms/step - loss: 0.5056 - mae: 0.5436 - val_loss: 0.3966 - val_mae: 0.5069\n",
            "Epoch 56/100\n",
            "491/491 [==============================] - 1s 2ms/step - loss: 0.5471 - mae: 0.5809 - val_loss: 0.3875 - val_mae: 0.5040\n",
            "Epoch 57/100\n",
            "491/491 [==============================] - 1s 2ms/step - loss: 0.5095 - mae: 0.5387 - val_loss: 0.3751 - val_mae: 0.4913\n",
            "Epoch 58/100\n",
            "491/491 [==============================] - 1s 2ms/step - loss: 0.5034 - mae: 0.5383 - val_loss: 0.3878 - val_mae: 0.4933\n",
            "Epoch 59/100\n",
            "491/491 [==============================] - 1s 2ms/step - loss: 0.4868 - mae: 0.5355 - val_loss: 0.3683 - val_mae: 0.4853\n",
            "Epoch 60/100\n",
            "491/491 [==============================] - 1s 2ms/step - loss: 0.5423 - mae: 0.5528 - val_loss: 0.3728 - val_mae: 0.4875\n",
            "Epoch 61/100\n",
            "491/491 [==============================] - 1s 2ms/step - loss: 0.5517 - mae: 0.5551 - val_loss: 0.3673 - val_mae: 0.4803\n",
            "Epoch 62/100\n",
            "491/491 [==============================] - 1s 2ms/step - loss: 0.4797 - mae: 0.5217 - val_loss: 0.3510 - val_mae: 0.4724\n",
            "Epoch 63/100\n",
            "491/491 [==============================] - 1s 2ms/step - loss: 0.5331 - mae: 0.5542 - val_loss: 0.3934 - val_mae: 0.4985\n",
            "Epoch 64/100\n",
            "491/491 [==============================] - 1s 2ms/step - loss: 0.4512 - mae: 0.5064 - val_loss: 0.3597 - val_mae: 0.4818\n",
            "Epoch 65/100\n",
            "491/491 [==============================] - 1s 2ms/step - loss: 0.4768 - mae: 0.5176 - val_loss: 0.3762 - val_mae: 0.4886\n",
            "Epoch 66/100\n",
            "491/491 [==============================] - 1s 2ms/step - loss: 0.5348 - mae: 0.5427 - val_loss: 0.3333 - val_mae: 0.4490\n",
            "Epoch 67/100\n",
            "491/491 [==============================] - 1s 2ms/step - loss: 0.5042 - mae: 0.5466 - val_loss: 0.3821 - val_mae: 0.4940\n",
            "Epoch 68/100\n",
            "491/491 [==============================] - 1s 2ms/step - loss: 0.5917 - mae: 0.5703 - val_loss: 0.3537 - val_mae: 0.4691\n",
            "Epoch 69/100\n",
            "491/491 [==============================] - 1s 2ms/step - loss: 0.5472 - mae: 0.5591 - val_loss: 0.3703 - val_mae: 0.4796\n",
            "Epoch 70/100\n",
            "491/491 [==============================] - 1s 2ms/step - loss: 0.5203 - mae: 0.5581 - val_loss: 0.3672 - val_mae: 0.4798\n",
            "Epoch 71/100\n",
            "491/491 [==============================] - 1s 2ms/step - loss: 0.5667 - mae: 0.5675 - val_loss: 0.3439 - val_mae: 0.4619\n",
            "Epoch 72/100\n",
            "491/491 [==============================] - 1s 2ms/step - loss: 0.5849 - mae: 0.5725 - val_loss: 0.3472 - val_mae: 0.4603\n",
            "Epoch 73/100\n",
            "491/491 [==============================] - 1s 2ms/step - loss: 0.5262 - mae: 0.5519 - val_loss: 0.3685 - val_mae: 0.4770\n",
            "Epoch 74/100\n",
            "491/491 [==============================] - 1s 2ms/step - loss: 0.5607 - mae: 0.5614 - val_loss: 0.3620 - val_mae: 0.4751\n",
            "Epoch 75/100\n",
            "491/491 [==============================] - 1s 2ms/step - loss: 0.5466 - mae: 0.5519 - val_loss: 0.3818 - val_mae: 0.4899\n",
            "Epoch 76/100\n",
            "491/491 [==============================] - 1s 2ms/step - loss: 0.4980 - mae: 0.5175 - val_loss: 0.3297 - val_mae: 0.4496\n",
            "Epoch 77/100\n",
            "491/491 [==============================] - 1s 2ms/step - loss: 0.4566 - mae: 0.5203 - val_loss: 0.3721 - val_mae: 0.4794\n",
            "Epoch 78/100\n",
            "491/491 [==============================] - 1s 2ms/step - loss: 0.4233 - mae: 0.4977 - val_loss: 0.3795 - val_mae: 0.4913\n",
            "Epoch 79/100\n",
            "491/491 [==============================] - 1s 2ms/step - loss: 0.5498 - mae: 0.5569 - val_loss: 0.3368 - val_mae: 0.4462\n",
            "Epoch 80/100\n",
            "491/491 [==============================] - 1s 2ms/step - loss: 0.5356 - mae: 0.5623 - val_loss: 0.3645 - val_mae: 0.4744\n",
            "Epoch 81/100\n",
            "491/491 [==============================] - 1s 2ms/step - loss: 0.5430 - mae: 0.5614 - val_loss: 0.3344 - val_mae: 0.4568\n",
            "Epoch 82/100\n",
            "491/491 [==============================] - 1s 2ms/step - loss: 0.5077 - mae: 0.5253 - val_loss: 0.3475 - val_mae: 0.4565\n",
            "Epoch 83/100\n",
            "491/491 [==============================] - 1s 2ms/step - loss: 0.4999 - mae: 0.5496 - val_loss: 0.3762 - val_mae: 0.4884\n",
            "Epoch 84/100\n",
            "491/491 [==============================] - 1s 2ms/step - loss: 0.5213 - mae: 0.5419 - val_loss: 0.3308 - val_mae: 0.4496\n",
            "Epoch 85/100\n",
            "491/491 [==============================] - 1s 2ms/step - loss: 0.4222 - mae: 0.4884 - val_loss: 0.3909 - val_mae: 0.4936\n",
            "Epoch 86/100\n",
            "491/491 [==============================] - 1s 2ms/step - loss: 0.4832 - mae: 0.5148 - val_loss: 0.3582 - val_mae: 0.4728\n",
            "Epoch 87/100\n",
            "491/491 [==============================] - 1s 2ms/step - loss: 0.5827 - mae: 0.5842 - val_loss: 0.3886 - val_mae: 0.4944\n",
            "Epoch 88/100\n",
            "491/491 [==============================] - 1s 2ms/step - loss: 0.4961 - mae: 0.5211 - val_loss: 0.3700 - val_mae: 0.4807\n",
            "Epoch 89/100\n",
            "491/491 [==============================] - 1s 2ms/step - loss: 0.4738 - mae: 0.5108 - val_loss: 0.3473 - val_mae: 0.4622\n",
            "Epoch 90/100\n",
            "491/491 [==============================] - 1s 2ms/step - loss: 0.5096 - mae: 0.5532 - val_loss: 0.3617 - val_mae: 0.4751\n",
            "Epoch 91/100\n",
            "491/491 [==============================] - 1s 2ms/step - loss: 0.5776 - mae: 0.5822 - val_loss: 0.3155 - val_mae: 0.4375\n",
            "Epoch 92/100\n",
            "491/491 [==============================] - 1s 2ms/step - loss: 0.5239 - mae: 0.5583 - val_loss: 0.3909 - val_mae: 0.5005\n",
            "Epoch 93/100\n",
            "491/491 [==============================] - 1s 2ms/step - loss: 0.5671 - mae: 0.5594 - val_loss: 0.3673 - val_mae: 0.4739\n",
            "Epoch 94/100\n",
            "491/491 [==============================] - 1s 2ms/step - loss: 0.5582 - mae: 0.5823 - val_loss: 0.3493 - val_mae: 0.4645\n",
            "Epoch 95/100\n",
            "491/491 [==============================] - 1s 2ms/step - loss: 0.5125 - mae: 0.5247 - val_loss: 0.3673 - val_mae: 0.4791\n",
            "Epoch 96/100\n",
            "491/491 [==============================] - 1s 2ms/step - loss: 0.5837 - mae: 0.5634 - val_loss: 0.3362 - val_mae: 0.4543\n",
            "Epoch 97/100\n",
            "491/491 [==============================] - 1s 2ms/step - loss: 0.5701 - mae: 0.5661 - val_loss: 0.3306 - val_mae: 0.4539\n",
            "Epoch 98/100\n",
            "491/491 [==============================] - 1s 2ms/step - loss: 0.4913 - mae: 0.5318 - val_loss: 0.3681 - val_mae: 0.4822\n",
            "Epoch 99/100\n",
            "491/491 [==============================] - 1s 2ms/step - loss: 0.4911 - mae: 0.5248 - val_loss: 0.3139 - val_mae: 0.4353\n",
            "Epoch 100/100\n",
            "491/491 [==============================] - 1s 2ms/step - loss: 0.4727 - mae: 0.5135 - val_loss: 0.3449 - val_mae: 0.4656\n"
          ],
          "name": "stdout"
        },
        {
          "output_type": "execute_result",
          "data": {
            "text/plain": [
              "<tensorflow.python.keras.callbacks.History at 0x7fcf68b96850>"
            ]
          },
          "metadata": {
            "tags": []
          },
          "execution_count": 35
        }
      ]
    },
    {
      "cell_type": "code",
      "metadata": {
        "colab": {
          "base_uri": "https://localhost:8080/"
        },
        "id": "aedgvZfCoEqr",
        "outputId": "20d17497-e425-4471-c7c5-0a4696eb97cf"
      },
      "source": [
        "\n",
        "test_mse_score, test_mae_score = model.evaluate(x_test, y_test)"
      ],
      "execution_count": 37,
      "outputs": [
        {
          "output_type": "stream",
          "text": [
            "10/10 [==============================] - 0s 2ms/step - loss: 0.3429 - mae: 0.4643\n"
          ],
          "name": "stdout"
        }
      ]
    },
    {
      "cell_type": "code",
      "metadata": {
        "id": "qepWbko8rXy7"
      },
      "source": [
        "# check presdictions on testing data\n",
        "y_pred =model.predict(x_test)\n",
        "y_pred=y_pred*labels_std+labels_mean"
      ],
      "execution_count": 38,
      "outputs": []
    },
    {
      "cell_type": "code",
      "metadata": {
        "colab": {
          "base_uri": "https://localhost:8080/",
          "height": 314
        },
        "id": "osFYrcPkrnnE",
        "outputId": "af3fcc56-ffab-47e6-ddd0-5b318243c53d"
      },
      "source": [
        "# check ploting \n",
        "import matplotlib.pyplot as plt\n",
        "plt.figure(figsize=(20,5))\n",
        "plt.subplot(1, 2, 1 )\n",
        "plt.hist(labels)\n",
        "plt.xlabel('Original target value')\n",
        "plt.ylabel('count')\n",
        "plt.subplot(1, 2, 2)\n",
        "plt.hist(y_pred)\n",
        "plt.xlabel('Aggregated target value')\n",
        "plt.show()"
      ],
      "execution_count": 39,
      "outputs": [
        {
          "output_type": "display_data",
          "data": {
            "image/png": "[encoded data removed]",
            "text/plain": [
              "<Figure size 1440x360 with 2 Axes>"
            ]
          },
          "metadata": {
            "tags": [],
            "needs_background": "light"
          }
        }
      ]
    }
  ]
}